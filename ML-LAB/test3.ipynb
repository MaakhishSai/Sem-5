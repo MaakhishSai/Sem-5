{
 "cells": [
  {
   "cell_type": "code",
   "execution_count": 1,
   "id": "659eb714",
   "metadata": {},
   "outputs": [],
   "source": [
    "import numpy as np\n",
    "import pandas as pd\n",
    "import matplotlib.pyplot as plt\n",
    "from sklearn.model_selection import train_test_split as tts\n",
    "from sklearn.preprocessing import StandardScaler\n",
    "from sklearn.preprocessing import OneHotEncoder\n",
    "from sklearn.metrics import confusion_matrix, ConfusionMatrixDisplay, classification_report, accuracy_score, roc_curve\n",
    "from sklearn.metrics import auc\n",
    "from sklearn import preprocessing "
   ]
  },
  {
   "cell_type": "code",
   "execution_count": 2,
   "id": "30816a9d",
   "metadata": {},
   "outputs": [],
   "source": [
    "data = pd.read_csv(r\"/home/mllab/Desktop/bank.csv\", delimiter = ';')"
   ]
  },
  {
   "cell_type": "code",
   "execution_count": 3,
   "id": "6282f68e",
   "metadata": {},
   "outputs": [
    {
     "data": {
      "text/html": [
       "<div>\n",
       "<style scoped>\n",
       "    .dataframe tbody tr th:only-of-type {\n",
       "        vertical-align: middle;\n",
       "    }\n",
       "\n",
       "    .dataframe tbody tr th {\n",
       "        vertical-align: top;\n",
       "    }\n",
       "\n",
       "    .dataframe thead th {\n",
       "        text-align: right;\n",
       "    }\n",
       "</style>\n",
       "<table border=\"1\" class=\"dataframe\">\n",
       "  <thead>\n",
       "    <tr style=\"text-align: right;\">\n",
       "      <th></th>\n",
       "      <th>age</th>\n",
       "      <th>job</th>\n",
       "      <th>marital</th>\n",
       "      <th>education</th>\n",
       "      <th>default</th>\n",
       "      <th>balance</th>\n",
       "      <th>housing</th>\n",
       "      <th>loan</th>\n",
       "      <th>contact</th>\n",
       "      <th>day</th>\n",
       "      <th>month</th>\n",
       "      <th>duration</th>\n",
       "      <th>campaign</th>\n",
       "      <th>pdays</th>\n",
       "      <th>previous</th>\n",
       "      <th>poutcome</th>\n",
       "      <th>y</th>\n",
       "    </tr>\n",
       "  </thead>\n",
       "  <tbody>\n",
       "    <tr>\n",
       "      <th>0</th>\n",
       "      <td>30</td>\n",
       "      <td>unemployed</td>\n",
       "      <td>married</td>\n",
       "      <td>primary</td>\n",
       "      <td>no</td>\n",
       "      <td>1787</td>\n",
       "      <td>no</td>\n",
       "      <td>no</td>\n",
       "      <td>cellular</td>\n",
       "      <td>19</td>\n",
       "      <td>oct</td>\n",
       "      <td>79</td>\n",
       "      <td>1</td>\n",
       "      <td>-1</td>\n",
       "      <td>0</td>\n",
       "      <td>unknown</td>\n",
       "      <td>no</td>\n",
       "    </tr>\n",
       "    <tr>\n",
       "      <th>1</th>\n",
       "      <td>33</td>\n",
       "      <td>services</td>\n",
       "      <td>married</td>\n",
       "      <td>secondary</td>\n",
       "      <td>no</td>\n",
       "      <td>4789</td>\n",
       "      <td>yes</td>\n",
       "      <td>yes</td>\n",
       "      <td>cellular</td>\n",
       "      <td>11</td>\n",
       "      <td>may</td>\n",
       "      <td>220</td>\n",
       "      <td>1</td>\n",
       "      <td>339</td>\n",
       "      <td>4</td>\n",
       "      <td>failure</td>\n",
       "      <td>no</td>\n",
       "    </tr>\n",
       "    <tr>\n",
       "      <th>2</th>\n",
       "      <td>35</td>\n",
       "      <td>management</td>\n",
       "      <td>single</td>\n",
       "      <td>tertiary</td>\n",
       "      <td>no</td>\n",
       "      <td>1350</td>\n",
       "      <td>yes</td>\n",
       "      <td>no</td>\n",
       "      <td>cellular</td>\n",
       "      <td>16</td>\n",
       "      <td>apr</td>\n",
       "      <td>185</td>\n",
       "      <td>1</td>\n",
       "      <td>330</td>\n",
       "      <td>1</td>\n",
       "      <td>failure</td>\n",
       "      <td>no</td>\n",
       "    </tr>\n",
       "    <tr>\n",
       "      <th>3</th>\n",
       "      <td>30</td>\n",
       "      <td>management</td>\n",
       "      <td>married</td>\n",
       "      <td>tertiary</td>\n",
       "      <td>no</td>\n",
       "      <td>1476</td>\n",
       "      <td>yes</td>\n",
       "      <td>yes</td>\n",
       "      <td>unknown</td>\n",
       "      <td>3</td>\n",
       "      <td>jun</td>\n",
       "      <td>199</td>\n",
       "      <td>4</td>\n",
       "      <td>-1</td>\n",
       "      <td>0</td>\n",
       "      <td>unknown</td>\n",
       "      <td>no</td>\n",
       "    </tr>\n",
       "    <tr>\n",
       "      <th>4</th>\n",
       "      <td>59</td>\n",
       "      <td>blue-collar</td>\n",
       "      <td>married</td>\n",
       "      <td>secondary</td>\n",
       "      <td>no</td>\n",
       "      <td>0</td>\n",
       "      <td>yes</td>\n",
       "      <td>no</td>\n",
       "      <td>unknown</td>\n",
       "      <td>5</td>\n",
       "      <td>may</td>\n",
       "      <td>226</td>\n",
       "      <td>1</td>\n",
       "      <td>-1</td>\n",
       "      <td>0</td>\n",
       "      <td>unknown</td>\n",
       "      <td>no</td>\n",
       "    </tr>\n",
       "  </tbody>\n",
       "</table>\n",
       "</div>"
      ],
      "text/plain": [
       "   age          job  marital  education default  balance housing loan  \\\n",
       "0   30   unemployed  married    primary      no     1787      no   no   \n",
       "1   33     services  married  secondary      no     4789     yes  yes   \n",
       "2   35   management   single   tertiary      no     1350     yes   no   \n",
       "3   30   management  married   tertiary      no     1476     yes  yes   \n",
       "4   59  blue-collar  married  secondary      no        0     yes   no   \n",
       "\n",
       "    contact  day month  duration  campaign  pdays  previous poutcome   y  \n",
       "0  cellular   19   oct        79         1     -1         0  unknown  no  \n",
       "1  cellular   11   may       220         1    339         4  failure  no  \n",
       "2  cellular   16   apr       185         1    330         1  failure  no  \n",
       "3   unknown    3   jun       199         4     -1         0  unknown  no  \n",
       "4   unknown    5   may       226         1     -1         0  unknown  no  "
      ]
     },
     "execution_count": 3,
     "metadata": {},
     "output_type": "execute_result"
    }
   ],
   "source": [
    "data.head()"
   ]
  },
  {
   "cell_type": "code",
   "execution_count": 4,
   "id": "ab8f098a",
   "metadata": {},
   "outputs": [],
   "source": [
    "enc = preprocessing.LabelEncoder()\n",
    "data[\"y\"] = enc.fit_transform(data[\"y\"])"
   ]
  },
  {
   "cell_type": "code",
   "execution_count": 5,
   "id": "e21ff6b1",
   "metadata": {},
   "outputs": [
    {
     "name": "stdout",
     "output_type": "stream",
     "text": [
      "<class 'pandas.core.frame.DataFrame'>\n",
      "RangeIndex: 4521 entries, 0 to 4520\n",
      "Data columns (total 17 columns):\n",
      " #   Column     Non-Null Count  Dtype \n",
      "---  ------     --------------  ----- \n",
      " 0   age        4521 non-null   int64 \n",
      " 1   job        4521 non-null   object\n",
      " 2   marital    4521 non-null   object\n",
      " 3   education  4521 non-null   object\n",
      " 4   default    4521 non-null   object\n",
      " 5   balance    4521 non-null   int64 \n",
      " 6   housing    4521 non-null   object\n",
      " 7   loan       4521 non-null   object\n",
      " 8   contact    4521 non-null   object\n",
      " 9   day        4521 non-null   int64 \n",
      " 10  month      4521 non-null   object\n",
      " 11  duration   4521 non-null   int64 \n",
      " 12  campaign   4521 non-null   int64 \n",
      " 13  pdays      4521 non-null   int64 \n",
      " 14  previous   4521 non-null   int64 \n",
      " 15  poutcome   4521 non-null   object\n",
      " 16  y          4521 non-null   int64 \n",
      "dtypes: int64(8), object(9)\n",
      "memory usage: 600.6+ KB\n"
     ]
    }
   ],
   "source": [
    "data.info()"
   ]
  },
  {
   "cell_type": "code",
   "execution_count": 6,
   "id": "76ee29c4",
   "metadata": {},
   "outputs": [],
   "source": [
    "X = data.iloc[ : , :-1]\n",
    "Y = data.iloc[ : , -1]"
   ]
  },
  {
   "cell_type": "code",
   "execution_count": 7,
   "id": "f8be5128",
   "metadata": {},
   "outputs": [],
   "source": [
    "num_features = X.select_dtypes(include = ['int64', 'float64']).columns\n",
    "cat_features = X.select_dtypes(include = ['object', 'category']).columns"
   ]
  },
  {
   "cell_type": "code",
   "execution_count": 8,
   "id": "3053e62c",
   "metadata": {},
   "outputs": [],
   "source": [
    "X[num_features] = X[num_features].fillna(X[num_features].mean())"
   ]
  },
  {
   "cell_type": "code",
   "execution_count": 9,
   "id": "5a7269e0",
   "metadata": {},
   "outputs": [],
   "source": [
    "encoder = OneHotEncoder(sparse_output = False, handle_unknown = \"ignore\")"
   ]
  },
  {
   "cell_type": "code",
   "execution_count": 10,
   "id": "dcaa5bda",
   "metadata": {},
   "outputs": [],
   "source": [
    "encoded_cols = encoder.fit_transform(data[cat_features])"
   ]
  },
  {
   "cell_type": "code",
   "execution_count": 11,
   "id": "c54656a5",
   "metadata": {},
   "outputs": [],
   "source": [
    "encoded_df = pd.DataFrame(encoded_cols, columns = encoder.get_feature_names_out(cat_features))"
   ]
  },
  {
   "cell_type": "code",
   "execution_count": 12,
   "id": "7c7a2f87",
   "metadata": {},
   "outputs": [],
   "source": [
    "X = X.drop(columns = cat_features).reset_index(drop = True)"
   ]
  },
  {
   "cell_type": "code",
   "execution_count": 13,
   "id": "eb80b8e2",
   "metadata": {},
   "outputs": [],
   "source": [
    "X = pd.concat([X, encoded_df], axis = 1)"
   ]
  },
  {
   "cell_type": "code",
   "execution_count": 48,
   "id": "03b7e675",
   "metadata": {},
   "outputs": [
    {
     "name": "stdout",
     "output_type": "stream",
     "text": [
      "<class 'pandas.core.frame.DataFrame'>\n",
      "RangeIndex: 4521 entries, 0 to 4520\n",
      "Data columns (total 51 columns):\n",
      " #   Column               Non-Null Count  Dtype  \n",
      "---  ------               --------------  -----  \n",
      " 0   age                  4521 non-null   int64  \n",
      " 1   balance              4521 non-null   int64  \n",
      " 2   day                  4521 non-null   int64  \n",
      " 3   duration             4521 non-null   int64  \n",
      " 4   campaign             4521 non-null   int64  \n",
      " 5   pdays                4521 non-null   int64  \n",
      " 6   previous             4521 non-null   int64  \n",
      " 7   job_admin.           4521 non-null   float64\n",
      " 8   job_blue-collar      4521 non-null   float64\n",
      " 9   job_entrepreneur     4521 non-null   float64\n",
      " 10  job_housemaid        4521 non-null   float64\n",
      " 11  job_management       4521 non-null   float64\n",
      " 12  job_retired          4521 non-null   float64\n",
      " 13  job_self-employed    4521 non-null   float64\n",
      " 14  job_services         4521 non-null   float64\n",
      " 15  job_student          4521 non-null   float64\n",
      " 16  job_technician       4521 non-null   float64\n",
      " 17  job_unemployed       4521 non-null   float64\n",
      " 18  job_unknown          4521 non-null   float64\n",
      " 19  marital_divorced     4521 non-null   float64\n",
      " 20  marital_married      4521 non-null   float64\n",
      " 21  marital_single       4521 non-null   float64\n",
      " 22  education_primary    4521 non-null   float64\n",
      " 23  education_secondary  4521 non-null   float64\n",
      " 24  education_tertiary   4521 non-null   float64\n",
      " 25  education_unknown    4521 non-null   float64\n",
      " 26  default_no           4521 non-null   float64\n",
      " 27  default_yes          4521 non-null   float64\n",
      " 28  housing_no           4521 non-null   float64\n",
      " 29  housing_yes          4521 non-null   float64\n",
      " 30  loan_no              4521 non-null   float64\n",
      " 31  loan_yes             4521 non-null   float64\n",
      " 32  contact_cellular     4521 non-null   float64\n",
      " 33  contact_telephone    4521 non-null   float64\n",
      " 34  contact_unknown      4521 non-null   float64\n",
      " 35  month_apr            4521 non-null   float64\n",
      " 36  month_aug            4521 non-null   float64\n",
      " 37  month_dec            4521 non-null   float64\n",
      " 38  month_feb            4521 non-null   float64\n",
      " 39  month_jan            4521 non-null   float64\n",
      " 40  month_jul            4521 non-null   float64\n",
      " 41  month_jun            4521 non-null   float64\n",
      " 42  month_mar            4521 non-null   float64\n",
      " 43  month_may            4521 non-null   float64\n",
      " 44  month_nov            4521 non-null   float64\n",
      " 45  month_oct            4521 non-null   float64\n",
      " 46  month_sep            4521 non-null   float64\n",
      " 47  poutcome_failure     4521 non-null   float64\n",
      " 48  poutcome_other       4521 non-null   float64\n",
      " 49  poutcome_success     4521 non-null   float64\n",
      " 50  poutcome_unknown     4521 non-null   float64\n",
      "dtypes: float64(44), int64(7)\n",
      "memory usage: 1.8 MB\n"
     ]
    }
   ],
   "source": [
    "X.info()"
   ]
  },
  {
   "cell_type": "code",
   "execution_count": 14,
   "id": "6f520bad",
   "metadata": {},
   "outputs": [],
   "source": [
    "X_train, X_test, Y_train, Y_test = tts(X, Y, test_size = 0.20, random_state = 42)"
   ]
  },
  {
   "cell_type": "code",
   "execution_count": 15,
   "id": "f4f98658",
   "metadata": {},
   "outputs": [
    {
     "data": {
      "text/html": [
       "<style>#sk-container-id-1 {color: black;}#sk-container-id-1 pre{padding: 0;}#sk-container-id-1 div.sk-toggleable {background-color: white;}#sk-container-id-1 label.sk-toggleable__label {cursor: pointer;display: block;width: 100%;margin-bottom: 0;padding: 0.3em;box-sizing: border-box;text-align: center;}#sk-container-id-1 label.sk-toggleable__label-arrow:before {content: \"▸\";float: left;margin-right: 0.25em;color: #696969;}#sk-container-id-1 label.sk-toggleable__label-arrow:hover:before {color: black;}#sk-container-id-1 div.sk-estimator:hover label.sk-toggleable__label-arrow:before {color: black;}#sk-container-id-1 div.sk-toggleable__content {max-height: 0;max-width: 0;overflow: hidden;text-align: left;background-color: #f0f8ff;}#sk-container-id-1 div.sk-toggleable__content pre {margin: 0.2em;color: black;border-radius: 0.25em;background-color: #f0f8ff;}#sk-container-id-1 input.sk-toggleable__control:checked~div.sk-toggleable__content {max-height: 200px;max-width: 100%;overflow: auto;}#sk-container-id-1 input.sk-toggleable__control:checked~label.sk-toggleable__label-arrow:before {content: \"▾\";}#sk-container-id-1 div.sk-estimator input.sk-toggleable__control:checked~label.sk-toggleable__label {background-color: #d4ebff;}#sk-container-id-1 div.sk-label input.sk-toggleable__control:checked~label.sk-toggleable__label {background-color: #d4ebff;}#sk-container-id-1 input.sk-hidden--visually {border: 0;clip: rect(1px 1px 1px 1px);clip: rect(1px, 1px, 1px, 1px);height: 1px;margin: -1px;overflow: hidden;padding: 0;position: absolute;width: 1px;}#sk-container-id-1 div.sk-estimator {font-family: monospace;background-color: #f0f8ff;border: 1px dotted black;border-radius: 0.25em;box-sizing: border-box;margin-bottom: 0.5em;}#sk-container-id-1 div.sk-estimator:hover {background-color: #d4ebff;}#sk-container-id-1 div.sk-parallel-item::after {content: \"\";width: 100%;border-bottom: 1px solid gray;flex-grow: 1;}#sk-container-id-1 div.sk-label:hover label.sk-toggleable__label {background-color: #d4ebff;}#sk-container-id-1 div.sk-serial::before {content: \"\";position: absolute;border-left: 1px solid gray;box-sizing: border-box;top: 0;bottom: 0;left: 50%;z-index: 0;}#sk-container-id-1 div.sk-serial {display: flex;flex-direction: column;align-items: center;background-color: white;padding-right: 0.2em;padding-left: 0.2em;position: relative;}#sk-container-id-1 div.sk-item {position: relative;z-index: 1;}#sk-container-id-1 div.sk-parallel {display: flex;align-items: stretch;justify-content: center;background-color: white;position: relative;}#sk-container-id-1 div.sk-item::before, #sk-container-id-1 div.sk-parallel-item::before {content: \"\";position: absolute;border-left: 1px solid gray;box-sizing: border-box;top: 0;bottom: 0;left: 50%;z-index: -1;}#sk-container-id-1 div.sk-parallel-item {display: flex;flex-direction: column;z-index: 1;position: relative;background-color: white;}#sk-container-id-1 div.sk-parallel-item:first-child::after {align-self: flex-end;width: 50%;}#sk-container-id-1 div.sk-parallel-item:last-child::after {align-self: flex-start;width: 50%;}#sk-container-id-1 div.sk-parallel-item:only-child::after {width: 0;}#sk-container-id-1 div.sk-dashed-wrapped {border: 1px dashed gray;margin: 0 0.4em 0.5em 0.4em;box-sizing: border-box;padding-bottom: 0.4em;background-color: white;}#sk-container-id-1 div.sk-label label {font-family: monospace;font-weight: bold;display: inline-block;line-height: 1.2em;}#sk-container-id-1 div.sk-label-container {text-align: center;}#sk-container-id-1 div.sk-container {/* jupyter's `normalize.less` sets `[hidden] { display: none; }` but bootstrap.min.css set `[hidden] { display: none !important; }` so we also need the `!important` here to be able to override the default hidden behavior on the sphinx rendered scikit-learn.org. See: https://github.com/scikit-learn/scikit-learn/issues/21755 */display: inline-block !important;position: relative;}#sk-container-id-1 div.sk-text-repr-fallback {display: none;}</style><div id=\"sk-container-id-1\" class=\"sk-top-container\"><div class=\"sk-text-repr-fallback\"><pre>SVC()</pre><b>In a Jupyter environment, please rerun this cell to show the HTML representation or trust the notebook. <br />On GitHub, the HTML representation is unable to render, please try loading this page with nbviewer.org.</b></div><div class=\"sk-container\" hidden><div class=\"sk-item\"><div class=\"sk-estimator sk-toggleable\"><input class=\"sk-toggleable__control sk-hidden--visually\" id=\"sk-estimator-id-1\" type=\"checkbox\" checked><label for=\"sk-estimator-id-1\" class=\"sk-toggleable__label sk-toggleable__label-arrow\">SVC</label><div class=\"sk-toggleable__content\"><pre>SVC()</pre></div></div></div></div></div>"
      ],
      "text/plain": [
       "SVC()"
      ]
     },
     "execution_count": 15,
     "metadata": {},
     "output_type": "execute_result"
    }
   ],
   "source": [
    "from sklearn.svm import SVC\n",
    "rbfsvm = SVC(kernel = \"rbf\")\n",
    "rbfsvm.fit(X_train, Y_train)"
   ]
  },
  {
   "cell_type": "code",
   "execution_count": 16,
   "id": "d2539c49",
   "metadata": {},
   "outputs": [],
   "source": [
    "def evaluate(model, title, X, Y):\n",
    "    Y_pred = model.predict(X)\n",
    "    crep = classification_report(Y, Y_pred)\n",
    "    print(f\"Classification report of {title}\")\n",
    "    print(crep)\n",
    "    \n",
    "    print()\n",
    "    \n",
    "    cm = confusion_matrix(Y, Y_pred)\n",
    "    dis = ConfusionMatrixDisplay(confusion_matrix = cm)\n",
    "    dis.plot()\n",
    "    plt.title(f\"Confusion Matrix of {title}\")\n",
    "    plt.show()"
   ]
  },
  {
   "cell_type": "code",
   "execution_count": 17,
   "id": "53ca9f09",
   "metadata": {},
   "outputs": [
    {
     "name": "stdout",
     "output_type": "stream",
     "text": [
      "Classification report of Radial SVM\n",
      "              precision    recall  f1-score   support\n",
      "\n",
      "           0       0.89      1.00      0.94       807\n",
      "           1       0.00      0.00      0.00        98\n",
      "\n",
      "    accuracy                           0.89       905\n",
      "   macro avg       0.45      0.50      0.47       905\n",
      "weighted avg       0.80      0.89      0.84       905\n",
      "\n",
      "\n"
     ]
    },
    {
     "data": {
      "image/png": "[encoded data removed]",
      "text/plain": [
       "<Figure size 640x480 with 2 Axes>"
      ]
     },
     "metadata": {},
     "output_type": "display_data"
    }
   ],
   "source": [
    "evaluate(rbfsvm, \"Radial SVM\", X_test, Y_test)"
   ]
  },
  {
   "cell_type": "code",
   "execution_count": 18,
   "id": "4661ea8f",
   "metadata": {},
   "outputs": [],
   "source": [
    "from sklearn.ensemble import RandomForestClassifier"
   ]
  },
  {
   "cell_type": "code",
   "execution_count": 19,
   "id": "16669d23",
   "metadata": {},
   "outputs": [],
   "source": [
    "rf = RandomForestClassifier(random_state = 42)"
   ]
  },
  {
   "cell_type": "code",
   "execution_count": 20,
   "id": "9d557b93",
   "metadata": {},
   "outputs": [
    {
     "data": {
      "text/html": [
       "<style>#sk-container-id-2 {color: black;}#sk-container-id-2 pre{padding: 0;}#sk-container-id-2 div.sk-toggleable {background-color: white;}#sk-container-id-2 label.sk-toggleable__label {cursor: pointer;display: block;width: 100%;margin-bottom: 0;padding: 0.3em;box-sizing: border-box;text-align: center;}#sk-container-id-2 label.sk-toggleable__label-arrow:before {content: \"▸\";float: left;margin-right: 0.25em;color: #696969;}#sk-container-id-2 label.sk-toggleable__label-arrow:hover:before {color: black;}#sk-container-id-2 div.sk-estimator:hover label.sk-toggleable__label-arrow:before {color: black;}#sk-container-id-2 div.sk-toggleable__content {max-height: 0;max-width: 0;overflow: hidden;text-align: left;background-color: #f0f8ff;}#sk-container-id-2 div.sk-toggleable__content pre {margin: 0.2em;color: black;border-radius: 0.25em;background-color: #f0f8ff;}#sk-container-id-2 input.sk-toggleable__control:checked~div.sk-toggleable__content {max-height: 200px;max-width: 100%;overflow: auto;}#sk-container-id-2 input.sk-toggleable__control:checked~label.sk-toggleable__label-arrow:before {content: \"▾\";}#sk-container-id-2 div.sk-estimator input.sk-toggleable__control:checked~label.sk-toggleable__label {background-color: #d4ebff;}#sk-container-id-2 div.sk-label input.sk-toggleable__control:checked~label.sk-toggleable__label {background-color: #d4ebff;}#sk-container-id-2 input.sk-hidden--visually {border: 0;clip: rect(1px 1px 1px 1px);clip: rect(1px, 1px, 1px, 1px);height: 1px;margin: -1px;overflow: hidden;padding: 0;position: absolute;width: 1px;}#sk-container-id-2 div.sk-estimator {font-family: monospace;background-color: #f0f8ff;border: 1px dotted black;border-radius: 0.25em;box-sizing: border-box;margin-bottom: 0.5em;}#sk-container-id-2 div.sk-estimator:hover {background-color: #d4ebff;}#sk-container-id-2 div.sk-parallel-item::after {content: \"\";width: 100%;border-bottom: 1px solid gray;flex-grow: 1;}#sk-container-id-2 div.sk-label:hover label.sk-toggleable__label {background-color: #d4ebff;}#sk-container-id-2 div.sk-serial::before {content: \"\";position: absolute;border-left: 1px solid gray;box-sizing: border-box;top: 0;bottom: 0;left: 50%;z-index: 0;}#sk-container-id-2 div.sk-serial {display: flex;flex-direction: column;align-items: center;background-color: white;padding-right: 0.2em;padding-left: 0.2em;position: relative;}#sk-container-id-2 div.sk-item {position: relative;z-index: 1;}#sk-container-id-2 div.sk-parallel {display: flex;align-items: stretch;justify-content: center;background-color: white;position: relative;}#sk-container-id-2 div.sk-item::before, #sk-container-id-2 div.sk-parallel-item::before {content: \"\";position: absolute;border-left: 1px solid gray;box-sizing: border-box;top: 0;bottom: 0;left: 50%;z-index: -1;}#sk-container-id-2 div.sk-parallel-item {display: flex;flex-direction: column;z-index: 1;position: relative;background-color: white;}#sk-container-id-2 div.sk-parallel-item:first-child::after {align-self: flex-end;width: 50%;}#sk-container-id-2 div.sk-parallel-item:last-child::after {align-self: flex-start;width: 50%;}#sk-container-id-2 div.sk-parallel-item:only-child::after {width: 0;}#sk-container-id-2 div.sk-dashed-wrapped {border: 1px dashed gray;margin: 0 0.4em 0.5em 0.4em;box-sizing: border-box;padding-bottom: 0.4em;background-color: white;}#sk-container-id-2 div.sk-label label {font-family: monospace;font-weight: bold;display: inline-block;line-height: 1.2em;}#sk-container-id-2 div.sk-label-container {text-align: center;}#sk-container-id-2 div.sk-container {/* jupyter's `normalize.less` sets `[hidden] { display: none; }` but bootstrap.min.css set `[hidden] { display: none !important; }` so we also need the `!important` here to be able to override the default hidden behavior on the sphinx rendered scikit-learn.org. See: https://github.com/scikit-learn/scikit-learn/issues/21755 */display: inline-block !important;position: relative;}#sk-container-id-2 div.sk-text-repr-fallback {display: none;}</style><div id=\"sk-container-id-2\" class=\"sk-top-container\"><div class=\"sk-text-repr-fallback\"><pre>RandomForestClassifier(random_state=42)</pre><b>In a Jupyter environment, please rerun this cell to show the HTML representation or trust the notebook. <br />On GitHub, the HTML representation is unable to render, please try loading this page with nbviewer.org.</b></div><div class=\"sk-container\" hidden><div class=\"sk-item\"><div class=\"sk-estimator sk-toggleable\"><input class=\"sk-toggleable__control sk-hidden--visually\" id=\"sk-estimator-id-2\" type=\"checkbox\" checked><label for=\"sk-estimator-id-2\" class=\"sk-toggleable__label sk-toggleable__label-arrow\">RandomForestClassifier</label><div class=\"sk-toggleable__content\"><pre>RandomForestClassifier(random_state=42)</pre></div></div></div></div></div>"
      ],
      "text/plain": [
       "RandomForestClassifier(random_state=42)"
      ]
     },
     "execution_count": 20,
     "metadata": {},
     "output_type": "execute_result"
    }
   ],
   "source": [
    "rf.fit(X_train, Y_train)"
   ]
  },
  {
   "cell_type": "code",
   "execution_count": 21,
   "id": "9837cb35",
   "metadata": {},
   "outputs": [
    {
     "name": "stdout",
     "output_type": "stream",
     "text": [
      "Classification report of Random Forest\n",
      "              precision    recall  f1-score   support\n",
      "\n",
      "           0       0.92      0.98      0.95       807\n",
      "           1       0.60      0.26      0.36        98\n",
      "\n",
      "    accuracy                           0.90       905\n",
      "   macro avg       0.76      0.62      0.65       905\n",
      "weighted avg       0.88      0.90      0.88       905\n",
      "\n",
      "\n"
     ]
    },
    {
     "data": {
      "image/png": "[encoded data removed]",
      "text/plain": [
       "<Figure size 640x480 with 2 Axes>"
      ]
     },
     "metadata": {},
     "output_type": "display_data"
    }
   ],
   "source": [
    "evaluate(rf, \"Random Forest\", X_test, Y_test)"
   ]
  },
  {
   "cell_type": "code",
   "execution_count": 22,
   "id": "9112475f",
   "metadata": {},
   "outputs": [],
   "source": [
    "param_grid = {\n",
    "    \"n_estimators\" : [50, 100, 200],\n",
    "    \"max_depth\" : [5, 7, 10, 20],\n",
    "    \"max_features\" : ['sqrt', 'log2']\n",
    "}"
   ]
  },
  {
   "cell_type": "code",
   "execution_count": 23,
   "id": "6edca923",
   "metadata": {},
   "outputs": [],
   "source": [
    "from sklearn.model_selection import GridSearchCV"
   ]
  },
  {
   "cell_type": "code",
   "execution_count": 24,
   "id": "5bd4bc9d",
   "metadata": {},
   "outputs": [],
   "source": [
    "gs = GridSearchCV(estimator = rf, param_grid = param_grid)"
   ]
  },
  {
   "cell_type": "code",
   "execution_count": 25,
   "id": "66c520bb",
   "metadata": {},
   "outputs": [
    {
     "data": {
      "text/html": [
       "<style>#sk-container-id-3 {color: black;}#sk-container-id-3 pre{padding: 0;}#sk-container-id-3 div.sk-toggleable {background-color: white;}#sk-container-id-3 label.sk-toggleable__label {cursor: pointer;display: block;width: 100%;margin-bottom: 0;padding: 0.3em;box-sizing: border-box;text-align: center;}#sk-container-id-3 label.sk-toggleable__label-arrow:before {content: \"▸\";float: left;margin-right: 0.25em;color: #696969;}#sk-container-id-3 label.sk-toggleable__label-arrow:hover:before {color: black;}#sk-container-id-3 div.sk-estimator:hover label.sk-toggleable__label-arrow:before {color: black;}#sk-container-id-3 div.sk-toggleable__content {max-height: 0;max-width: 0;overflow: hidden;text-align: left;background-color: #f0f8ff;}#sk-container-id-3 div.sk-toggleable__content pre {margin: 0.2em;color: black;border-radius: 0.25em;background-color: #f0f8ff;}#sk-container-id-3 input.sk-toggleable__control:checked~div.sk-toggleable__content {max-height: 200px;max-width: 100%;overflow: auto;}#sk-container-id-3 input.sk-toggleable__control:checked~label.sk-toggleable__label-arrow:before {content: \"▾\";}#sk-container-id-3 div.sk-estimator input.sk-toggleable__control:checked~label.sk-toggleable__label {background-color: #d4ebff;}#sk-container-id-3 div.sk-label input.sk-toggleable__control:checked~label.sk-toggleable__label {background-color: #d4ebff;}#sk-container-id-3 input.sk-hidden--visually {border: 0;clip: rect(1px 1px 1px 1px);clip: rect(1px, 1px, 1px, 1px);height: 1px;margin: -1px;overflow: hidden;padding: 0;position: absolute;width: 1px;}#sk-container-id-3 div.sk-estimator {font-family: monospace;background-color: #f0f8ff;border: 1px dotted black;border-radius: 0.25em;box-sizing: border-box;margin-bottom: 0.5em;}#sk-container-id-3 div.sk-estimator:hover {background-color: #d4ebff;}#sk-container-id-3 div.sk-parallel-item::after {content: \"\";width: 100%;border-bottom: 1px solid gray;flex-grow: 1;}#sk-container-id-3 div.sk-label:hover label.sk-toggleable__label {background-color: #d4ebff;}#sk-container-id-3 div.sk-serial::before {content: \"\";position: absolute;border-left: 1px solid gray;box-sizing: border-box;top: 0;bottom: 0;left: 50%;z-index: 0;}#sk-container-id-3 div.sk-serial {display: flex;flex-direction: column;align-items: center;background-color: white;padding-right: 0.2em;padding-left: 0.2em;position: relative;}#sk-container-id-3 div.sk-item {position: relative;z-index: 1;}#sk-container-id-3 div.sk-parallel {display: flex;align-items: stretch;justify-content: center;background-color: white;position: relative;}#sk-container-id-3 div.sk-item::before, #sk-container-id-3 div.sk-parallel-item::before {content: \"\";position: absolute;border-left: 1px solid gray;box-sizing: border-box;top: 0;bottom: 0;left: 50%;z-index: -1;}#sk-container-id-3 div.sk-parallel-item {display: flex;flex-direction: column;z-index: 1;position: relative;background-color: white;}#sk-container-id-3 div.sk-parallel-item:first-child::after {align-self: flex-end;width: 50%;}#sk-container-id-3 div.sk-parallel-item:last-child::after {align-self: flex-start;width: 50%;}#sk-container-id-3 div.sk-parallel-item:only-child::after {width: 0;}#sk-container-id-3 div.sk-dashed-wrapped {border: 1px dashed gray;margin: 0 0.4em 0.5em 0.4em;box-sizing: border-box;padding-bottom: 0.4em;background-color: white;}#sk-container-id-3 div.sk-label label {font-family: monospace;font-weight: bold;display: inline-block;line-height: 1.2em;}#sk-container-id-3 div.sk-label-container {text-align: center;}#sk-container-id-3 div.sk-container {/* jupyter's `normalize.less` sets `[hidden] { display: none; }` but bootstrap.min.css set `[hidden] { display: none !important; }` so we also need the `!important` here to be able to override the default hidden behavior on the sphinx rendered scikit-learn.org. See: https://github.com/scikit-learn/scikit-learn/issues/21755 */display: inline-block !important;position: relative;}#sk-container-id-3 div.sk-text-repr-fallback {display: none;}</style><div id=\"sk-container-id-3\" class=\"sk-top-container\"><div class=\"sk-text-repr-fallback\"><pre>GridSearchCV(estimator=RandomForestClassifier(random_state=42),\n",
       "             param_grid={&#x27;max_depth&#x27;: [5, 7, 10, 20],\n",
       "                         &#x27;max_features&#x27;: [&#x27;sqrt&#x27;, &#x27;log2&#x27;],\n",
       "                         &#x27;n_estimators&#x27;: [50, 100, 200]})</pre><b>In a Jupyter environment, please rerun this cell to show the HTML representation or trust the notebook. <br />On GitHub, the HTML representation is unable to render, please try loading this page with nbviewer.org.</b></div><div class=\"sk-container\" hidden><div class=\"sk-item sk-dashed-wrapped\"><div class=\"sk-label-container\"><div class=\"sk-label sk-toggleable\"><input class=\"sk-toggleable__control sk-hidden--visually\" id=\"sk-estimator-id-3\" type=\"checkbox\" ><label for=\"sk-estimator-id-3\" class=\"sk-toggleable__label sk-toggleable__label-arrow\">GridSearchCV</label><div class=\"sk-toggleable__content\"><pre>GridSearchCV(estimator=RandomForestClassifier(random_state=42),\n",
       "             param_grid={&#x27;max_depth&#x27;: [5, 7, 10, 20],\n",
       "                         &#x27;max_features&#x27;: [&#x27;sqrt&#x27;, &#x27;log2&#x27;],\n",
       "                         &#x27;n_estimators&#x27;: [50, 100, 200]})</pre></div></div></div><div class=\"sk-parallel\"><div class=\"sk-parallel-item\"><div class=\"sk-item\"><div class=\"sk-label-container\"><div class=\"sk-label sk-toggleable\"><input class=\"sk-toggleable__control sk-hidden--visually\" id=\"sk-estimator-id-4\" type=\"checkbox\" ><label for=\"sk-estimator-id-4\" class=\"sk-toggleable__label sk-toggleable__label-arrow\">estimator: RandomForestClassifier</label><div class=\"sk-toggleable__content\"><pre>RandomForestClassifier(random_state=42)</pre></div></div></div><div class=\"sk-serial\"><div class=\"sk-item\"><div class=\"sk-estimator sk-toggleable\"><input class=\"sk-toggleable__control sk-hidden--visually\" id=\"sk-estimator-id-5\" type=\"checkbox\" ><label for=\"sk-estimator-id-5\" class=\"sk-toggleable__label sk-toggleable__label-arrow\">RandomForestClassifier</label><div class=\"sk-toggleable__content\"><pre>RandomForestClassifier(random_state=42)</pre></div></div></div></div></div></div></div></div></div></div>"
      ],
      "text/plain": [
       "GridSearchCV(estimator=RandomForestClassifier(random_state=42),\n",
       "             param_grid={'max_depth': [5, 7, 10, 20],\n",
       "                         'max_features': ['sqrt', 'log2'],\n",
       "                         'n_estimators': [50, 100, 200]})"
      ]
     },
     "execution_count": 25,
     "metadata": {},
     "output_type": "execute_result"
    }
   ],
   "source": [
    "gs.fit(X_train, Y_train)"
   ]
  },
  {
   "cell_type": "code",
   "execution_count": 26,
   "id": "5a34ddad",
   "metadata": {},
   "outputs": [],
   "source": [
    "opt_params = gs.best_params_\n",
    "a1 = opt_params[\"n_estimators\"]\n",
    "a2 = opt_params[\"max_depth\"]\n",
    "a3 = opt_params[\"max_features\"]"
   ]
  },
  {
   "cell_type": "code",
   "execution_count": 27,
   "id": "84fbe561",
   "metadata": {},
   "outputs": [
    {
     "name": "stdout",
     "output_type": "stream",
     "text": [
      "The optimal number of trees in random forest are 200\n",
      "The optimal depth of the tree is 20\n",
      "The optimal number of samples split is 7.0\n"
     ]
    }
   ],
   "source": [
    "print(f\"The optimal number of trees in random forest are {a1}\")\n",
    "print(f\"The optimal depth of the tree is {a2}\")\n",
    "total_f = X.shape[1]\n",
    "if a3 == 'sqrt':\n",
    "    a33 = np.sqrt(total_f)\n",
    "else:\n",
    "    a33 = np.log2(total_f)\n",
    "a33 = np.floor(a33)\n",
    "print(f\"The optimal number of samples split is {a33}\")"
   ]
  },
  {
   "cell_type": "code",
   "execution_count": 28,
   "id": "9df97c29",
   "metadata": {},
   "outputs": [
    {
     "name": "stderr",
     "output_type": "stream",
     "text": [
      "2024-11-12 16:01:34.641732: I tensorflow/core/platform/cpu_feature_guard.cc:182] This TensorFlow binary is optimized to use available CPU instructions in performance-critical operations.\n",
      "To enable the following instructions: SSE4.1 SSE4.2 AVX AVX2 FMA, in other operations, rebuild TensorFlow with the appropriate compiler flags.\n"
     ]
    }
   ],
   "source": [
    "import tensorflow"
   ]
  },
  {
   "cell_type": "code",
   "execution_count": 29,
   "id": "6c1f76fd",
   "metadata": {},
   "outputs": [],
   "source": [
    "from tensorflow.keras.models import Sequential\n",
    "from tensorflow.keras.layers import Dense, Dropout"
   ]
  },
  {
   "cell_type": "code",
   "execution_count": 30,
   "id": "6bd66ee1",
   "metadata": {},
   "outputs": [
    {
     "name": "stderr",
     "output_type": "stream",
     "text": [
      "2024-11-12 16:01:38.096905: I tensorflow/core/common_runtime/process_util.cc:146] Creating new thread pool with default inter op setting: 2. Tune using inter_op_parallelism_threads for best performance.\n"
     ]
    }
   ],
   "source": [
    "kerasmodel = Sequential()\n",
    "kerasmodel.add(Dense(51, input_dim = 51, activation = 'relu'))\n",
    "kerasmodel.add(Dense(32, activation = 'relu'))\n",
    "kerasmodel.add(Dense(32, activation = 'relu'))\n",
    "kerasmodel.add(Dense(1, activation = 'sigmoid'))"
   ]
  },
  {
   "cell_type": "code",
   "execution_count": 31,
   "id": "4aad80b3",
   "metadata": {},
   "outputs": [],
   "source": [
    "kerasmodel.compile(loss = \"binary_crossentropy\", optimizer = \"adam\", metrics = ['accuracy'])"
   ]
  },
  {
   "cell_type": "code",
   "execution_count": 40,
   "id": "4e27700d",
   "metadata": {},
   "outputs": [
    {
     "name": "stdout",
     "output_type": "stream",
     "text": [
      "Epoch 1/150\n",
      "362/362 [==============================] - 1s 1ms/step - loss: 0.2375 - accuracy: 0.8971\n",
      "Epoch 2/150\n",
      "362/362 [==============================] - 1s 1ms/step - loss: 0.2333 - accuracy: 0.9010\n",
      "Epoch 3/150\n",
      "362/362 [==============================] - 0s 1ms/step - loss: 0.2505 - accuracy: 0.8916\n",
      "Epoch 4/150\n",
      "362/362 [==============================] - 1s 2ms/step - loss: 0.2418 - accuracy: 0.8966\n",
      "Epoch 5/150\n",
      "362/362 [==============================] - 1s 2ms/step - loss: 0.2425 - accuracy: 0.8952\n",
      "Epoch 6/150\n",
      "362/362 [==============================] - 1s 1ms/step - loss: 0.2357 - accuracy: 0.8946\n",
      "Epoch 7/150\n",
      "362/362 [==============================] - 1s 2ms/step - loss: 0.2254 - accuracy: 0.8996\n",
      "Epoch 8/150\n",
      "362/362 [==============================] - 1s 2ms/step - loss: 0.2395 - accuracy: 0.8963\n",
      "Epoch 9/150\n",
      "362/362 [==============================] - 1s 2ms/step - loss: 0.2270 - accuracy: 0.9029\n",
      "Epoch 10/150\n",
      "362/362 [==============================] - 1s 1ms/step - loss: 0.2311 - accuracy: 0.9027\n",
      "Epoch 11/150\n",
      "362/362 [==============================] - 1s 1ms/step - loss: 0.2266 - accuracy: 0.8988\n",
      "Epoch 12/150\n",
      "362/362 [==============================] - 1s 1ms/step - loss: 0.2307 - accuracy: 0.8991\n",
      "Epoch 13/150\n",
      "362/362 [==============================] - 1s 1ms/step - loss: 0.2230 - accuracy: 0.9051\n",
      "Epoch 14/150\n",
      "362/362 [==============================] - 1s 1ms/step - loss: 0.2391 - accuracy: 0.8982\n",
      "Epoch 15/150\n",
      "362/362 [==============================] - 1s 1ms/step - loss: 0.2326 - accuracy: 0.9018\n",
      "Epoch 16/150\n",
      "362/362 [==============================] - 1s 2ms/step - loss: 0.2233 - accuracy: 0.9021\n",
      "Epoch 17/150\n",
      "362/362 [==============================] - 1s 2ms/step - loss: 0.2301 - accuracy: 0.9007\n",
      "Epoch 18/150\n",
      "362/362 [==============================] - 1s 2ms/step - loss: 0.2334 - accuracy: 0.9010\n",
      "Epoch 19/150\n",
      "362/362 [==============================] - 1s 3ms/step - loss: 0.2294 - accuracy: 0.9062\n",
      "Epoch 20/150\n",
      "362/362 [==============================] - 1s 2ms/step - loss: 0.2339 - accuracy: 0.8974\n",
      "Epoch 21/150\n",
      "362/362 [==============================] - 1s 2ms/step - loss: 0.2288 - accuracy: 0.8999\n",
      "Epoch 22/150\n",
      "362/362 [==============================] - 1s 2ms/step - loss: 0.2317 - accuracy: 0.9029\n",
      "Epoch 23/150\n",
      "362/362 [==============================] - 1s 3ms/step - loss: 0.2312 - accuracy: 0.8949\n",
      "Epoch 24/150\n",
      "362/362 [==============================] - 1s 2ms/step - loss: 0.2280 - accuracy: 0.9021\n",
      "Epoch 25/150\n",
      "362/362 [==============================] - 1s 2ms/step - loss: 0.2199 - accuracy: 0.9090\n",
      "Epoch 26/150\n",
      "362/362 [==============================] - 1s 2ms/step - loss: 0.2178 - accuracy: 0.9046\n",
      "Epoch 27/150\n",
      "362/362 [==============================] - 1s 2ms/step - loss: 0.2261 - accuracy: 0.9043\n",
      "Epoch 28/150\n",
      "362/362 [==============================] - 1s 2ms/step - loss: 0.2234 - accuracy: 0.9013\n",
      "Epoch 29/150\n",
      "362/362 [==============================] - 1s 2ms/step - loss: 0.2312 - accuracy: 0.9038\n",
      "Epoch 30/150\n",
      "362/362 [==============================] - 1s 2ms/step - loss: 0.2245 - accuracy: 0.9087\n",
      "Epoch 31/150\n",
      "362/362 [==============================] - 1s 2ms/step - loss: 0.2304 - accuracy: 0.9068\n",
      "Epoch 32/150\n",
      "362/362 [==============================] - 1s 2ms/step - loss: 0.2211 - accuracy: 0.8991\n",
      "Epoch 33/150\n",
      "362/362 [==============================] - 1s 2ms/step - loss: 0.2285 - accuracy: 0.9068\n",
      "Epoch 34/150\n",
      "362/362 [==============================] - 1s 2ms/step - loss: 0.2228 - accuracy: 0.9054\n",
      "Epoch 35/150\n",
      "362/362 [==============================] - 1s 3ms/step - loss: 0.2245 - accuracy: 0.9060\n",
      "Epoch 36/150\n",
      "362/362 [==============================] - 1s 2ms/step - loss: 0.2281 - accuracy: 0.8980\n",
      "Epoch 37/150\n",
      "362/362 [==============================] - 1s 2ms/step - loss: 0.2223 - accuracy: 0.9021\n",
      "Epoch 38/150\n",
      "362/362 [==============================] - 1s 3ms/step - loss: 0.2207 - accuracy: 0.9004\n",
      "Epoch 39/150\n",
      "362/362 [==============================] - 1s 2ms/step - loss: 0.2269 - accuracy: 0.9015\n",
      "Epoch 40/150\n",
      "362/362 [==============================] - 1s 2ms/step - loss: 0.2226 - accuracy: 0.9013\n",
      "Epoch 41/150\n",
      "362/362 [==============================] - 1s 3ms/step - loss: 0.2193 - accuracy: 0.9040\n",
      "Epoch 42/150\n",
      "362/362 [==============================] - 1s 4ms/step - loss: 0.2177 - accuracy: 0.9062\n",
      "Epoch 43/150\n",
      "362/362 [==============================] - 1s 2ms/step - loss: 0.2180 - accuracy: 0.9062\n",
      "Epoch 44/150\n",
      "362/362 [==============================] - 1s 1ms/step - loss: 0.2254 - accuracy: 0.9010\n",
      "Epoch 45/150\n",
      "362/362 [==============================] - 1s 2ms/step - loss: 0.2300 - accuracy: 0.9038\n",
      "Epoch 46/150\n",
      "362/362 [==============================] - 1s 2ms/step - loss: 0.2238 - accuracy: 0.9049\n",
      "Epoch 47/150\n",
      "362/362 [==============================] - 1s 2ms/step - loss: 0.2293 - accuracy: 0.9027\n",
      "Epoch 48/150\n",
      "362/362 [==============================] - 1s 2ms/step - loss: 0.2220 - accuracy: 0.9087\n",
      "Epoch 49/150\n",
      "362/362 [==============================] - 1s 3ms/step - loss: 0.2215 - accuracy: 0.9076\n",
      "Epoch 50/150\n",
      "362/362 [==============================] - 1s 2ms/step - loss: 0.2160 - accuracy: 0.9051\n",
      "Epoch 51/150\n",
      "362/362 [==============================] - 1s 2ms/step - loss: 0.2254 - accuracy: 0.9015\n",
      "Epoch 52/150\n",
      "362/362 [==============================] - 1s 2ms/step - loss: 0.2204 - accuracy: 0.9060\n",
      "Epoch 53/150\n",
      "362/362 [==============================] - 1s 2ms/step - loss: 0.2191 - accuracy: 0.9040\n",
      "Epoch 54/150\n",
      "362/362 [==============================] - 1s 2ms/step - loss: 0.2271 - accuracy: 0.9071\n",
      "Epoch 55/150\n",
      "362/362 [==============================] - 1s 2ms/step - loss: 0.2202 - accuracy: 0.9038\n",
      "Epoch 56/150\n",
      "362/362 [==============================] - 1s 2ms/step - loss: 0.2202 - accuracy: 0.9076\n",
      "Epoch 57/150\n",
      "362/362 [==============================] - 1s 3ms/step - loss: 0.2205 - accuracy: 0.9057\n",
      "Epoch 58/150\n",
      "362/362 [==============================] - 1s 2ms/step - loss: 0.2155 - accuracy: 0.9110\n",
      "Epoch 59/150\n",
      "362/362 [==============================] - 1s 1ms/step - loss: 0.2173 - accuracy: 0.9057\n",
      "Epoch 60/150\n",
      "362/362 [==============================] - 1s 1ms/step - loss: 0.2180 - accuracy: 0.9085\n",
      "Epoch 61/150\n",
      "362/362 [==============================] - 1s 1ms/step - loss: 0.2333 - accuracy: 0.9002\n",
      "Epoch 62/150\n",
      "362/362 [==============================] - 1s 3ms/step - loss: 0.2200 - accuracy: 0.9068\n",
      "Epoch 63/150\n",
      "362/362 [==============================] - 1s 3ms/step - loss: 0.2242 - accuracy: 0.9057\n",
      "Epoch 64/150\n",
      "362/362 [==============================] - 1s 3ms/step - loss: 0.2220 - accuracy: 0.9010\n",
      "Epoch 65/150\n",
      "362/362 [==============================] - 1s 2ms/step - loss: 0.2213 - accuracy: 0.9035\n",
      "Epoch 66/150\n",
      "362/362 [==============================] - 1s 2ms/step - loss: 0.2222 - accuracy: 0.9065\n",
      "Epoch 67/150\n",
      "362/362 [==============================] - 1s 2ms/step - loss: 0.2216 - accuracy: 0.9018\n",
      "Epoch 68/150\n",
      "362/362 [==============================] - 1s 2ms/step - loss: 0.2191 - accuracy: 0.9051\n",
      "Epoch 69/150\n",
      "362/362 [==============================] - 1s 2ms/step - loss: 0.2205 - accuracy: 0.9054\n",
      "Epoch 70/150\n",
      "362/362 [==============================] - 1s 2ms/step - loss: 0.2142 - accuracy: 0.9065\n",
      "Epoch 71/150\n",
      "362/362 [==============================] - 1s 2ms/step - loss: 0.2206 - accuracy: 0.9054\n",
      "Epoch 72/150\n",
      "362/362 [==============================] - 1s 2ms/step - loss: 0.2173 - accuracy: 0.9046\n",
      "Epoch 73/150\n",
      "362/362 [==============================] - 1s 2ms/step - loss: 0.2202 - accuracy: 0.9024\n",
      "Epoch 74/150\n",
      "362/362 [==============================] - 1s 2ms/step - loss: 0.2267 - accuracy: 0.9029\n",
      "Epoch 75/150\n",
      "362/362 [==============================] - 1s 3ms/step - loss: 0.2224 - accuracy: 0.9024\n",
      "Epoch 76/150\n",
      "362/362 [==============================] - 1s 2ms/step - loss: 0.2131 - accuracy: 0.9093\n",
      "Epoch 77/150\n",
      "362/362 [==============================] - 1s 2ms/step - loss: 0.2216 - accuracy: 0.9071\n",
      "Epoch 78/150\n",
      "362/362 [==============================] - 1s 3ms/step - loss: 0.2132 - accuracy: 0.9021\n",
      "Epoch 79/150\n",
      "362/362 [==============================] - 1s 3ms/step - loss: 0.2234 - accuracy: 0.9049\n",
      "Epoch 80/150\n",
      "362/362 [==============================] - 1s 3ms/step - loss: 0.2214 - accuracy: 0.9024\n",
      "Epoch 81/150\n"
     ]
    },
    {
     "name": "stdout",
     "output_type": "stream",
     "text": [
      "362/362 [==============================] - 1s 2ms/step - loss: 0.2201 - accuracy: 0.9040\n",
      "Epoch 82/150\n",
      "362/362 [==============================] - 1s 3ms/step - loss: 0.2206 - accuracy: 0.9054\n",
      "Epoch 83/150\n",
      "362/362 [==============================] - 1s 4ms/step - loss: 0.2203 - accuracy: 0.9074\n",
      "Epoch 84/150\n",
      "362/362 [==============================] - 1s 3ms/step - loss: 0.2267 - accuracy: 0.9090\n",
      "Epoch 85/150\n",
      "362/362 [==============================] - 1s 3ms/step - loss: 0.2270 - accuracy: 0.9071\n",
      "Epoch 86/150\n",
      "362/362 [==============================] - 1s 2ms/step - loss: 0.2123 - accuracy: 0.9062\n",
      "Epoch 87/150\n",
      "362/362 [==============================] - 1s 2ms/step - loss: 0.2107 - accuracy: 0.9071\n",
      "Epoch 88/150\n",
      "362/362 [==============================] - 1s 3ms/step - loss: 0.2112 - accuracy: 0.9085\n",
      "Epoch 89/150\n",
      "362/362 [==============================] - 1s 3ms/step - loss: 0.2138 - accuracy: 0.9046\n",
      "Epoch 90/150\n",
      "362/362 [==============================] - 1s 3ms/step - loss: 0.2290 - accuracy: 0.9046\n",
      "Epoch 91/150\n",
      "362/362 [==============================] - 1s 3ms/step - loss: 0.2595 - accuracy: 0.9029\n",
      "Epoch 92/150\n",
      "362/362 [==============================] - 1s 3ms/step - loss: 0.2249 - accuracy: 0.9098\n",
      "Epoch 93/150\n",
      "362/362 [==============================] - 1s 3ms/step - loss: 0.2147 - accuracy: 0.9021\n",
      "Epoch 94/150\n",
      "362/362 [==============================] - 1s 3ms/step - loss: 0.2121 - accuracy: 0.9082\n",
      "Epoch 95/150\n",
      "362/362 [==============================] - 1s 2ms/step - loss: 0.2167 - accuracy: 0.9076\n",
      "Epoch 96/150\n",
      "362/362 [==============================] - 1s 2ms/step - loss: 0.2217 - accuracy: 0.9074\n",
      "Epoch 97/150\n",
      "362/362 [==============================] - 1s 2ms/step - loss: 0.2162 - accuracy: 0.9051\n",
      "Epoch 98/150\n",
      "362/362 [==============================] - 1s 2ms/step - loss: 0.2178 - accuracy: 0.9054\n",
      "Epoch 99/150\n",
      "362/362 [==============================] - 1s 2ms/step - loss: 0.2192 - accuracy: 0.9074\n",
      "Epoch 100/150\n",
      "362/362 [==============================] - 1s 2ms/step - loss: 0.2097 - accuracy: 0.9074\n",
      "Epoch 101/150\n",
      "362/362 [==============================] - 1s 4ms/step - loss: 0.2153 - accuracy: 0.9071\n",
      "Epoch 102/150\n",
      "362/362 [==============================] - 1s 3ms/step - loss: 0.2090 - accuracy: 0.9068\n",
      "Epoch 103/150\n",
      "362/362 [==============================] - 1s 3ms/step - loss: 0.2133 - accuracy: 0.9057\n",
      "Epoch 104/150\n",
      "362/362 [==============================] - 1s 2ms/step - loss: 0.2160 - accuracy: 0.9062\n",
      "Epoch 105/150\n",
      "362/362 [==============================] - 1s 2ms/step - loss: 0.2144 - accuracy: 0.9085\n",
      "Epoch 106/150\n",
      "362/362 [==============================] - 1s 2ms/step - loss: 0.2074 - accuracy: 0.9107\n",
      "Epoch 107/150\n",
      "362/362 [==============================] - 1s 2ms/step - loss: 0.2105 - accuracy: 0.9079\n",
      "Epoch 108/150\n",
      "362/362 [==============================] - 1s 3ms/step - loss: 0.2099 - accuracy: 0.9082\n",
      "Epoch 109/150\n",
      "362/362 [==============================] - 1s 2ms/step - loss: 0.2087 - accuracy: 0.9112\n",
      "Epoch 110/150\n",
      "362/362 [==============================] - 1s 2ms/step - loss: 0.2224 - accuracy: 0.9051\n",
      "Epoch 111/150\n",
      "362/362 [==============================] - 1s 2ms/step - loss: 0.2178 - accuracy: 0.9051\n",
      "Epoch 112/150\n",
      "362/362 [==============================] - 1s 2ms/step - loss: 0.2068 - accuracy: 0.9098\n",
      "Epoch 113/150\n",
      "362/362 [==============================] - 1s 2ms/step - loss: 0.2127 - accuracy: 0.9065\n",
      "Epoch 114/150\n",
      "362/362 [==============================] - 1s 2ms/step - loss: 0.2099 - accuracy: 0.9087\n",
      "Epoch 115/150\n",
      "362/362 [==============================] - 1s 2ms/step - loss: 0.2142 - accuracy: 0.9074\n",
      "Epoch 116/150\n",
      "362/362 [==============================] - 1s 3ms/step - loss: 0.2107 - accuracy: 0.9107\n",
      "Epoch 117/150\n",
      "362/362 [==============================] - 1s 3ms/step - loss: 0.2086 - accuracy: 0.9137\n",
      "Epoch 118/150\n",
      "362/362 [==============================] - 1s 3ms/step - loss: 0.2173 - accuracy: 0.9065\n",
      "Epoch 119/150\n",
      "362/362 [==============================] - 2s 5ms/step - loss: 0.2110 - accuracy: 0.9118\n",
      "Epoch 120/150\n",
      "362/362 [==============================] - 1s 2ms/step - loss: 0.2073 - accuracy: 0.9107\n",
      "Epoch 121/150\n",
      "362/362 [==============================] - 1s 2ms/step - loss: 0.2234 - accuracy: 0.9074\n",
      "Epoch 122/150\n",
      "362/362 [==============================] - 1s 2ms/step - loss: 0.2110 - accuracy: 0.9096\n",
      "Epoch 123/150\n",
      "362/362 [==============================] - 1s 2ms/step - loss: 0.2124 - accuracy: 0.9076\n",
      "Epoch 124/150\n",
      "362/362 [==============================] - 1s 3ms/step - loss: 0.2052 - accuracy: 0.9132\n",
      "Epoch 125/150\n",
      "362/362 [==============================] - 1s 3ms/step - loss: 0.2113 - accuracy: 0.9090\n",
      "Epoch 126/150\n",
      "362/362 [==============================] - 2s 4ms/step - loss: 0.2205 - accuracy: 0.9062\n",
      "Epoch 127/150\n",
      "362/362 [==============================] - 1s 3ms/step - loss: 0.2182 - accuracy: 0.9074\n",
      "Epoch 128/150\n",
      "362/362 [==============================] - 1s 3ms/step - loss: 0.2078 - accuracy: 0.9085\n",
      "Epoch 129/150\n",
      "362/362 [==============================] - 1s 3ms/step - loss: 0.2104 - accuracy: 0.9085\n",
      "Epoch 130/150\n",
      "362/362 [==============================] - 1s 3ms/step - loss: 0.2111 - accuracy: 0.9126\n",
      "Epoch 131/150\n",
      "362/362 [==============================] - 1s 3ms/step - loss: 0.2202 - accuracy: 0.9065\n",
      "Epoch 132/150\n",
      "362/362 [==============================] - 1s 3ms/step - loss: 0.2160 - accuracy: 0.9079\n",
      "Epoch 133/150\n",
      "362/362 [==============================] - 1s 3ms/step - loss: 0.2109 - accuracy: 0.9104\n",
      "Epoch 134/150\n",
      "362/362 [==============================] - 1s 3ms/step - loss: 0.2047 - accuracy: 0.9126\n",
      "Epoch 135/150\n",
      "362/362 [==============================] - 1s 3ms/step - loss: 0.2127 - accuracy: 0.9107\n",
      "Epoch 136/150\n",
      "362/362 [==============================] - 1s 3ms/step - loss: 0.2208 - accuracy: 0.9040\n",
      "Epoch 137/150\n",
      "362/362 [==============================] - 1s 3ms/step - loss: 0.2134 - accuracy: 0.9068\n",
      "Epoch 138/150\n",
      "362/362 [==============================] - 1s 3ms/step - loss: 0.2049 - accuracy: 0.9129\n",
      "Epoch 139/150\n",
      "362/362 [==============================] - 1s 3ms/step - loss: 0.2099 - accuracy: 0.9071\n",
      "Epoch 140/150\n",
      "362/362 [==============================] - 1s 3ms/step - loss: 0.2072 - accuracy: 0.9085\n",
      "Epoch 141/150\n",
      "362/362 [==============================] - 1s 3ms/step - loss: 0.2100 - accuracy: 0.9096\n",
      "Epoch 142/150\n",
      "362/362 [==============================] - 1s 3ms/step - loss: 0.2103 - accuracy: 0.9101\n",
      "Epoch 143/150\n",
      "362/362 [==============================] - 1s 4ms/step - loss: 0.2150 - accuracy: 0.9068\n",
      "Epoch 144/150\n",
      "362/362 [==============================] - 1s 3ms/step - loss: 0.2185 - accuracy: 0.9079\n",
      "Epoch 145/150\n",
      "362/362 [==============================] - 1s 3ms/step - loss: 0.2074 - accuracy: 0.9121\n",
      "Epoch 146/150\n",
      "362/362 [==============================] - 1s 3ms/step - loss: 0.2043 - accuracy: 0.9096\n",
      "Epoch 147/150\n",
      "362/362 [==============================] - 1s 2ms/step - loss: 0.2136 - accuracy: 0.9057\n",
      "Epoch 148/150\n",
      "362/362 [==============================] - 1s 3ms/step - loss: 0.2091 - accuracy: 0.9112\n",
      "Epoch 149/150\n",
      "362/362 [==============================] - 1s 3ms/step - loss: 0.2059 - accuracy: 0.9165\n",
      "Epoch 150/150\n",
      "362/362 [==============================] - 1s 3ms/step - loss: 0.2206 - accuracy: 0.9027\n"
     ]
    },
    {
     "data": {
      "text/plain": [
       "<keras.callbacks.History at 0x7ccc7ab08f10>"
      ]
     },
     "execution_count": 40,
     "metadata": {},
     "output_type": "execute_result"
    }
   ],
   "source": [
    "kerasmodel.fit(X_train, Y_train, epochs = 150, batch_size = 10)"
   ]
  },
  {
   "cell_type": "code",
   "execution_count": 41,
   "id": "57267bca",
   "metadata": {},
   "outputs": [
    {
     "name": "stdout",
     "output_type": "stream",
     "text": [
      "113/113 [==============================] - 0s 2ms/step - loss: 0.2031 - accuracy: 0.9104\n",
      "The training accuracy is  91.0398\n"
     ]
    }
   ],
   "source": [
    "train_loss, train_acc = kerasmodel.evaluate(X_train, Y_train)\n",
    "print(f\"The training accuracy is {train_acc * 100 : .4f}\")"
   ]
  },
  {
   "cell_type": "code",
   "execution_count": 42,
   "id": "94af908a",
   "metadata": {},
   "outputs": [
    {
     "name": "stdout",
     "output_type": "stream",
     "text": [
      "29/29 [==============================] - 0s 2ms/step - loss: 0.2662 - accuracy: 0.8983\n",
      "The testing accuracy is  89.8343\n"
     ]
    }
   ],
   "source": [
    "# Y_pred = kerasmodel.predict(X_test)\n",
    "_, test_acc = kerasmodel.evaluate(X_test, Y_test)\n",
    "print(f\"The testing accuracy is {test_acc * 100 : .4f}\")"
   ]
  },
  {
   "cell_type": "code",
   "execution_count": 47,
   "id": "37142e73",
   "metadata": {},
   "outputs": [
    {
     "data": {
      "image/png": "[encoded data removed]",
      "text/plain": [
       "<Figure size 640x480 with 1 Axes>"
      ]
     },
     "metadata": {},
     "output_type": "display_data"
    },
    {
     "name": "stdout",
     "output_type": "stream",
     "text": [
      "0.4993804213135068\n"
     ]
    }
   ],
   "source": [
    "Y_pred1 = rbfsvm.predict(X_test)\n",
    "fpr, tpr, _ = roc_curve(Y_test, Y_pred1)\n",
    "plt.plot(fpr, tpr, linestyle = \"--\", linewidth = 2)\n",
    "plt.plot([0, 1], [0, 1])\n",
    "plt.xlabel(\"False positive rates\")\n",
    "plt.ylabel(\"True positive rates\")\n",
    "plt.show()\n",
    "auc1 = auc(fpr, tpr)\n",
    "print(auc1)"
   ]
  },
  {
   "cell_type": "code",
   "execution_count": 44,
   "id": "3f5a92f2",
   "metadata": {},
   "outputs": [
    {
     "data": {
      "image/png": "[encoded data removed]",
      "text/plain": [
       "<Figure size 640x480 with 1 Axes>"
      ]
     },
     "metadata": {},
     "output_type": "display_data"
    },
    {
     "name": "stdout",
     "output_type": "stream",
     "text": [
      "0.6170181827377791\n"
     ]
    }
   ],
   "source": [
    "Y_pred2 = rf.predict(X_test)\n",
    "fpr, tpr, _ = roc_curve(Y_test, Y_pred2)\n",
    "plt.plot(fpr, tpr, linestyle = \"--\", linewidth = 2)\n",
    "plt.plot([0, 1], [0, 1])\n",
    "plt.xlabel(\"False positive rates\")\n",
    "plt.ylabel(\"True positive rates\")\n",
    "plt.show()\n",
    "auc2 = auc(fpr, tpr)\n",
    "print(auc2)"
   ]
  },
  {
   "cell_type": "code",
   "execution_count": 46,
   "id": "690975b4",
   "metadata": {},
   "outputs": [
    {
     "name": "stdout",
     "output_type": "stream",
     "text": [
      "29/29 [==============================] - 0s 1ms/step\n"
     ]
    },
    {
     "data": {
      "image/png": "[encoded data removed]",
      "text/plain": [
       "<Figure size 640x480 with 1 Axes>"
      ]
     },
     "metadata": {},
     "output_type": "display_data"
    },
    {
     "name": "stdout",
     "output_type": "stream",
     "text": [
      "0.8762802518777028\n"
     ]
    }
   ],
   "source": [
    "Y_pred3 = kerasmodel.predict(X_test)\n",
    "fpr, tpr, _ = roc_curve(Y_test, Y_pred3)\n",
    "plt.plot(fpr, tpr, linestyle = \"--\", linewidth = 2)\n",
    "plt.plot([0, 1], [0, 1])\n",
    "plt.xlabel(\"False positive rates\")\n",
    "plt.ylabel(\"True positive rates\")\n",
    "plt.show()\n",
    "auc3 = auc(fpr, tpr)\n",
    "print(auc3)"
   ]
  },
  {
   "cell_type": "code",
   "execution_count": null,
   "id": "117b9aa1",
   "metadata": {},
   "outputs": [],
   "source": []
  }
 ],
 "metadata": {
  "kernelspec": {
   "display_name": "Python 3 (ipykernel)",
   "language": "python",
   "name": "python3"
  },
  "language_info": {
   "codemirror_mode": {
    "name": "ipython",
    "version": 3
   },
   "file_extension": ".py",
   "mimetype": "text/x-python",
   "name": "python",
   "nbconvert_exporter": "python",
   "pygments_lexer": "ipython3",
   "version": "3.11.5"
  }
 },
 "nbformat": 4,
 "nbformat_minor": 5
}
