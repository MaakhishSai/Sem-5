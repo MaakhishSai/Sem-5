{
 "cells": [
  {
   "cell_type": "code",
   "execution_count": 1,
   "metadata": {},
   "outputs": [],
   "source": [
    "import numpy as np\n",
    "import pandas as pd"
   ]
  },
  {
   "cell_type": "code",
   "execution_count": 2,
   "metadata": {},
   "outputs": [],
   "source": [
    "X_train = pd.read_csv(r\"D:\\Sem - 5\\ML- LAB\\Assg-7 - ANN\\train_X.csv\")\n",
    "X_test = pd.read_csv(r'D:\\Sem - 5\\ML- LAB\\Assg-7 - ANN\\test_X.csv')\n",
    "Y_train = pd.read_csv(r\"D:\\Sem - 5\\ML- LAB\\Assg-7 - ANN\\train_label.csv\")\n",
    "Y_test = pd.read_csv(r\"D:\\Sem - 5\\ML- LAB\\Assg-7 - ANN\\test_label.csv\")"
   ]
  },
  {
   "cell_type": "code",
   "execution_count": 3,
   "metadata": {},
   "outputs": [],
   "source": [
    "x_random = X_test.iloc[0:1, :]\n",
    "y_random_test = Y_test.iloc[0:1, :]\n",
    "\n",
    "x_random = x_random.to_numpy()\n",
    "y_random_test = y_random_test.astype(int).to_numpy()\n",
    "\n",
    "X_train = X_train.to_numpy()\n",
    "X_test = X_test.to_numpy()\n",
    "\n",
    "Y_train = Y_train.astype(int).to_numpy()\n",
    "Y_test = Y_test.astype(int).to_numpy()"
   ]
  },
  {
   "cell_type": "code",
   "execution_count": 4,
   "metadata": {},
   "outputs": [],
   "source": [
    "def initialize_parameters(layer_dims):\n",
    "    np.random.seed(1)\n",
    "    parameters = {}\n",
    "    for l in range(1, len(layer_dims)):\n",
    "        parameters['W' + str(l)] = np.random.randn(layer_dims[l], layer_dims[l-1]) * 0.01\n",
    "        parameters['b' + str(l)] = np.zeros((layer_dims[l], 1))\n",
    "    return parameters"
   ]
  },
  {
   "cell_type": "code",
   "execution_count": 5,
   "metadata": {},
   "outputs": [],
   "source": [
    "def relu(x):\n",
    "    return np.maximum(0, x)\n",
    "\n",
    "def softmax(x):\n",
    "    num = np.exp(x - np.max(x, axis=0, keepdims=True))\n",
    "    den = num.sum(axis=0, keepdims=True)\n",
    "    return num / den "
   ]
  },
  {
   "cell_type": "code",
   "execution_count": 6,
   "metadata": {},
   "outputs": [],
   "source": [
    "def forward_propagation(X, parameters):\n",
    "    forward_cache = {}\n",
    "    A = X.T\n",
    "    L = len(parameters) // 2\n",
    "\n",
    "    for l in range(1, L):\n",
    "        Z = parameters['W' + str(l)].dot(A) + parameters['b' + str(l)]\n",
    "        A = relu(Z)\n",
    "        forward_cache['A' + str(l)] = A\n",
    "        forward_cache['Z' + str(l)] = Z\n",
    "\n",
    "    ZL = parameters['W' + str(L)].dot(A) + parameters['b' + str(L)]\n",
    "    AL = softmax(ZL)\n",
    "    forward_cache['A' + str(L)] = AL\n",
    "    forward_cache['Z' + str(L)] = ZL\n",
    "\n",
    "    return AL, forward_cache"
   ]
  },
  {
   "cell_type": "code",
   "execution_count": 7,
   "metadata": {},
   "outputs": [],
   "source": [
    "def compute_cost(AL, Y):\n",
    "    m = Y.shape[0]\n",
    "    cost = -np.sum(Y.T * np.log(AL + 1e-8)) / m\n",
    "    return np.squeeze(cost)\n",
    "\n",
    "def relu_derivative(x):\n",
    "    return x > 0\n",
    "\n",
    "def backward_propagation(X, Y, caches, parameters):\n",
    "    grads = {}\n",
    "    L = len(parameters) // 2\n",
    "    m = X.shape[0]\n",
    "    Y = Y.T\n",
    "    A_prev = X.T\n",
    "\n",
    "    dZL = caches['A' + str(L)] - Y\n",
    "    grads['dW' + str(L)] = dZL.dot(caches['A' + str(L-1)].T) / m\n",
    "    grads['db' + str(L)] = np.sum(dZL, axis = 1, keepdims = True) / m\n",
    "\n",
    "    for l in reversed(range(1, L)):\n",
    "        dA = parameters['W' + str(l+1)].T.dot(dZL)\n",
    "        dZ = dA * relu_derivative(caches['Z' + str(l)])\n",
    "        A_prev = X.T if l == 1 else caches['A' + str(l-1)]\n",
    "        grads['dW' + str(l)] = dZ.dot(A_prev.T) / m\n",
    "        grads['db' + str(l)] = np.sum(dZ, axis = 1, keepdims = True) / m\n",
    "        dZL = dZ\n",
    "\n",
    "    return grads"
   ]
  },
  {
   "cell_type": "code",
   "execution_count": 8,
   "metadata": {},
   "outputs": [],
   "source": [
    "def update_parameters(parameters, grads, learning_rate):\n",
    "    L = len(parameters) // 2\n",
    "    for l in range(1, L + 1):\n",
    "        parameters['W' + str(l)] -= learning_rate * grads['dW' + str(l)]\n",
    "        parameters['b' + str(l)] -= learning_rate * grads['db' + str(l)]\n",
    "    return parameters"
   ]
  },
  {
   "cell_type": "code",
   "execution_count": 9,
   "metadata": {},
   "outputs": [],
   "source": [
    "def model(X, Y, layer_dims, learning_rate=0.01, num_epochs=100):\n",
    "    parameters = initialize_parameters(layer_dims)\n",
    "    for epoch in range(num_epochs):\n",
    "        AL, caches = forward_propagation(X, parameters)\n",
    "\n",
    "        cost = compute_cost(AL, Y)\n",
    "\n",
    "        grads = backward_propagation(X, Y, caches, parameters)\n",
    "\n",
    "        parameters = update_parameters(parameters, grads, learning_rate)\n",
    "\n",
    "        if epoch % 10 == 0:\n",
    "            print(f\"Cost after epoch {epoch}: {cost:.4f}\")\n",
    "    return parameters"
   ]
  },
  {
   "cell_type": "code",
   "execution_count": 10,
   "metadata": {
    "colab": {
     "base_uri": "https://localhost:8080/"
    },
    "executionInfo": {
     "elapsed": 149519,
     "status": "ok",
     "timestamp": 1731028343320,
     "user": {
      "displayName": "Mayank Jhawer",
      "userId": "12783723993301704936"
     },
     "user_tz": -330
    },
    "id": "GwIRPoOh4sZI",
    "outputId": "0251aee8-fdf8-4260-d940-8ab3f2e93243",
    "scrolled": true
   },
   "outputs": [
    {
     "name": "stdout",
     "output_type": "stream",
     "text": [
      "Cost after epoch 0: 2.9567\n",
      "Cost after epoch 10: 1.0258\n",
      "Cost after epoch 20: 0.6921\n",
      "Cost after epoch 30: 0.5411\n",
      "Cost after epoch 40: 0.4436\n",
      "Cost after epoch 50: 0.3790\n",
      "Cost after epoch 60: 0.3314\n",
      "Cost after epoch 70: 0.2936\n",
      "Cost after epoch 80: 0.2623\n",
      "Cost after epoch 90: 0.2356\n",
      "Train accuracy: 95.20\n",
      "Test accuracy: 84.24\n"
     ]
    }
   ],
   "source": [
    "def predict(X, parameters):\n",
    "    AL, _ = forward_propagation(X, parameters)\n",
    "    predictions = np.argmax(AL, axis=0)\n",
    "    return predictions\n",
    "\n",
    "def accuracy(predictions, Y):\n",
    "    true_labels = np.argmax(Y, axis=1)\n",
    "    return np.mean(predictions == true_labels)\n",
    "\n",
    "layer_dims = [784, 64, 10]\n",
    "\n",
    "parameters = model(X_train, Y_train, layer_dims, learning_rate=0.001, num_epochs=100)\n",
    "\n",
    "train_preds = predict(X_train, parameters)\n",
    "test_preds = predict(X_test, parameters)\n",
    "\n",
    "print(f\"Train accuracy: {accuracy(train_preds, Y_train) * 100:.2f}\")\n",
    "print(f\"Test accuracy: {accuracy(test_preds, Y_test) * 100:.2f}\")\n"
   ]
  },
  {
   "cell_type": "code",
   "execution_count": 11,
   "metadata": {},
   "outputs": [
    {
     "name": "stdout",
     "output_type": "stream",
     "text": [
      "0\n",
      "0\n"
     ]
    }
   ],
   "source": [
    "pred = test_preds[25]\n",
    "true_class = np.argmax(Y_test[25])\n",
    "print(pred)\n",
    "print(true_class)"
   ]
  },
  {
   "cell_type": "code",
   "execution_count": 13,
   "metadata": {},
   "outputs": [
    {
     "name": "stdout",
     "output_type": "stream",
     "text": [
      "[0]\n",
      "\n",
      "[[1 0 0 0 0 0 0 0 0 0]]\n"
     ]
    }
   ],
   "source": [
    "random_test_pred = predict(x_random, parameters)\n",
    "print(random_test_pred)\n",
    "print(\"\")\n",
    "print(y_random_test)"
   ]
  },
  {
   "cell_type": "code",
   "execution_count": null,
   "metadata": {},
   "outputs": [],
   "source": []
  }
 ],
 "metadata": {
  "colab": {
   "authorship_tag": "ABX9TyPpa6sqZ1iTxrVwgoA/075i",
   "provenance": []
  },
  "kernelspec": {
   "display_name": "Python 3",
   "language": "python",
   "name": "python3"
  },
  "language_info": {
   "codemirror_mode": {
    "name": "ipython",
    "version": 3
   },
   "file_extension": ".py",
   "mimetype": "text/x-python",
   "name": "python",
   "nbconvert_exporter": "python",
   "pygments_lexer": "ipython3",
   "version": "3.12.4"
  }
 },
 "nbformat": 4,
 "nbformat_minor": 1
}
