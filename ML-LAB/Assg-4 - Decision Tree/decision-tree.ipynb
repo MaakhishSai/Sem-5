{
 "cells": [
  {
   "cell_type": "code",
   "execution_count": 1,
   "id": "a67645a0",
   "metadata": {},
   "outputs": [],
   "source": [
    "import numpy as np\n",
    "import pandas as pd\n",
    "import matplotlib.pyplot as plt\n",
    "from sklearn.model_selection import train_test_split as tts\n",
    "from sklearn.metrics import accuracy_score, precision_score, recall_score, confusion_matrix, roc_curve, auc, ConfusionMatrixDisplay\n",
    "import seaborn as sns\n",
    "from sklearn.tree import plot_tree"
   ]
  },
  {
   "cell_type": "code",
   "execution_count": 2,
   "id": "4918d227",
   "metadata": {},
   "outputs": [],
   "source": [
    "df = pd.read_csv(r'D:\\Sem - 5\\ML- LAB\\Assg-4 - Decision Tree\\Breast_cancer_data.csv')"
   ]
  },
  {
   "cell_type": "code",
   "execution_count": 3,
   "id": "af413bfc",
   "metadata": {},
   "outputs": [
    {
     "name": "stdout",
     "output_type": "stream",
     "text": [
      "<class 'pandas.core.frame.DataFrame'>\n",
      "RangeIndex: 569 entries, 0 to 568\n",
      "Data columns (total 6 columns):\n",
      " #   Column           Non-Null Count  Dtype  \n",
      "---  ------           --------------  -----  \n",
      " 0   mean_radius      569 non-null    float64\n",
      " 1   mean_texture     569 non-null    float64\n",
      " 2   mean_perimeter   569 non-null    float64\n",
      " 3   mean_area        569 non-null    float64\n",
      " 4   mean_smoothness  569 non-null    float64\n",
      " 5   diagnosis        569 non-null    int64  \n",
      "dtypes: float64(5), int64(1)\n",
      "memory usage: 26.8 KB\n"
     ]
    }
   ],
   "source": [
    "df.info()"
   ]
  },
  {
   "cell_type": "code",
   "execution_count": 4,
   "id": "d8332bf1",
   "metadata": {},
   "outputs": [
    {
     "data": {
      "text/html": [
       "<div>\n",
       "<style scoped>\n",
       "    .dataframe tbody tr th:only-of-type {\n",
       "        vertical-align: middle;\n",
       "    }\n",
       "\n",
       "    .dataframe tbody tr th {\n",
       "        vertical-align: top;\n",
       "    }\n",
       "\n",
       "    .dataframe thead th {\n",
       "        text-align: right;\n",
       "    }\n",
       "</style>\n",
       "<table border=\"1\" class=\"dataframe\">\n",
       "  <thead>\n",
       "    <tr style=\"text-align: right;\">\n",
       "      <th></th>\n",
       "      <th>mean_radius</th>\n",
       "      <th>mean_texture</th>\n",
       "      <th>mean_perimeter</th>\n",
       "      <th>mean_area</th>\n",
       "      <th>mean_smoothness</th>\n",
       "      <th>diagnosis</th>\n",
       "    </tr>\n",
       "  </thead>\n",
       "  <tbody>\n",
       "    <tr>\n",
       "      <th>count</th>\n",
       "      <td>569.000000</td>\n",
       "      <td>569.000000</td>\n",
       "      <td>569.000000</td>\n",
       "      <td>569.000000</td>\n",
       "      <td>569.000000</td>\n",
       "      <td>569.000000</td>\n",
       "    </tr>\n",
       "    <tr>\n",
       "      <th>mean</th>\n",
       "      <td>14.127292</td>\n",
       "      <td>19.289649</td>\n",
       "      <td>91.969033</td>\n",
       "      <td>654.889104</td>\n",
       "      <td>0.096360</td>\n",
       "      <td>0.627417</td>\n",
       "    </tr>\n",
       "    <tr>\n",
       "      <th>std</th>\n",
       "      <td>3.524049</td>\n",
       "      <td>4.301036</td>\n",
       "      <td>24.298981</td>\n",
       "      <td>351.914129</td>\n",
       "      <td>0.014064</td>\n",
       "      <td>0.483918</td>\n",
       "    </tr>\n",
       "    <tr>\n",
       "      <th>min</th>\n",
       "      <td>6.981000</td>\n",
       "      <td>9.710000</td>\n",
       "      <td>43.790000</td>\n",
       "      <td>143.500000</td>\n",
       "      <td>0.052630</td>\n",
       "      <td>0.000000</td>\n",
       "    </tr>\n",
       "    <tr>\n",
       "      <th>25%</th>\n",
       "      <td>11.700000</td>\n",
       "      <td>16.170000</td>\n",
       "      <td>75.170000</td>\n",
       "      <td>420.300000</td>\n",
       "      <td>0.086370</td>\n",
       "      <td>0.000000</td>\n",
       "    </tr>\n",
       "    <tr>\n",
       "      <th>50%</th>\n",
       "      <td>13.370000</td>\n",
       "      <td>18.840000</td>\n",
       "      <td>86.240000</td>\n",
       "      <td>551.100000</td>\n",
       "      <td>0.095870</td>\n",
       "      <td>1.000000</td>\n",
       "    </tr>\n",
       "    <tr>\n",
       "      <th>75%</th>\n",
       "      <td>15.780000</td>\n",
       "      <td>21.800000</td>\n",
       "      <td>104.100000</td>\n",
       "      <td>782.700000</td>\n",
       "      <td>0.105300</td>\n",
       "      <td>1.000000</td>\n",
       "    </tr>\n",
       "    <tr>\n",
       "      <th>max</th>\n",
       "      <td>28.110000</td>\n",
       "      <td>39.280000</td>\n",
       "      <td>188.500000</td>\n",
       "      <td>2501.000000</td>\n",
       "      <td>0.163400</td>\n",
       "      <td>1.000000</td>\n",
       "    </tr>\n",
       "  </tbody>\n",
       "</table>\n",
       "</div>"
      ],
      "text/plain": [
       "       mean_radius  mean_texture  mean_perimeter    mean_area  \\\n",
       "count   569.000000    569.000000      569.000000   569.000000   \n",
       "mean     14.127292     19.289649       91.969033   654.889104   \n",
       "std       3.524049      4.301036       24.298981   351.914129   \n",
       "min       6.981000      9.710000       43.790000   143.500000   \n",
       "25%      11.700000     16.170000       75.170000   420.300000   \n",
       "50%      13.370000     18.840000       86.240000   551.100000   \n",
       "75%      15.780000     21.800000      104.100000   782.700000   \n",
       "max      28.110000     39.280000      188.500000  2501.000000   \n",
       "\n",
       "       mean_smoothness   diagnosis  \n",
       "count       569.000000  569.000000  \n",
       "mean          0.096360    0.627417  \n",
       "std           0.014064    0.483918  \n",
       "min           0.052630    0.000000  \n",
       "25%           0.086370    0.000000  \n",
       "50%           0.095870    1.000000  \n",
       "75%           0.105300    1.000000  \n",
       "max           0.163400    1.000000  "
      ]
     },
     "execution_count": 4,
     "metadata": {},
     "output_type": "execute_result"
    }
   ],
   "source": [
    "df.describe()"
   ]
  },
  {
   "cell_type": "code",
   "execution_count": 5,
   "id": "1d734f42",
   "metadata": {},
   "outputs": [
    {
     "name": "stdout",
     "output_type": "stream",
     "text": [
      "     mean_radius  mean_texture  mean_perimeter  mean_area  mean_smoothness  \\\n",
      "0          17.99         10.38          122.80     1001.0          0.11840   \n",
      "1          20.57         17.77          132.90     1326.0          0.08474   \n",
      "2          19.69         21.25          130.00     1203.0          0.10960   \n",
      "3          11.42         20.38           77.58      386.1          0.14250   \n",
      "4          20.29         14.34          135.10     1297.0          0.10030   \n",
      "..           ...           ...             ...        ...              ...   \n",
      "564        21.56         22.39          142.00     1479.0          0.11100   \n",
      "565        20.13         28.25          131.20     1261.0          0.09780   \n",
      "566        16.60         28.08          108.30      858.1          0.08455   \n",
      "567        20.60         29.33          140.10     1265.0          0.11780   \n",
      "568         7.76         24.54           47.92      181.0          0.05263   \n",
      "\n",
      "     diagnosis  \n",
      "0            0  \n",
      "1            0  \n",
      "2            0  \n",
      "3            0  \n",
      "4            0  \n",
      "..         ...  \n",
      "564          0  \n",
      "565          0  \n",
      "566          0  \n",
      "567          0  \n",
      "568          1  \n",
      "\n",
      "[569 rows x 6 columns]\n"
     ]
    }
   ],
   "source": [
    "print(df)"
   ]
  },
  {
   "cell_type": "code",
   "execution_count": 6,
   "id": "36554a1d",
   "metadata": {},
   "outputs": [
    {
     "name": "stdout",
     "output_type": "stream",
     "text": [
      "mean_radius        0\n",
      "mean_texture       0\n",
      "mean_perimeter     0\n",
      "mean_area          0\n",
      "mean_smoothness    0\n",
      "diagnosis          0\n",
      "dtype: int64\n"
     ]
    }
   ],
   "source": [
    "print(df.isnull().sum())"
   ]
  },
  {
   "cell_type": "code",
   "execution_count": 7,
   "id": "63cdf966",
   "metadata": {},
   "outputs": [],
   "source": [
    "df = df.fillna(df.mean())"
   ]
  },
  {
   "cell_type": "code",
   "execution_count": 8,
   "id": "91fac34d",
   "metadata": {},
   "outputs": [],
   "source": [
    "corr_matrix = df.corr()\n",
    "corr_with_target = corr_matrix['diagnosis'].sort_values(ascending = True)"
   ]
  },
  {
   "cell_type": "code",
   "execution_count": 9,
   "id": "b4a26b71",
   "metadata": {},
   "outputs": [
    {
     "data": {
      "text/plain": [
       "mean_perimeter    -0.742636\n",
       "mean_radius       -0.730029\n",
       "mean_area         -0.708984\n",
       "mean_texture      -0.415185\n",
       "mean_smoothness   -0.358560\n",
       "diagnosis          1.000000\n",
       "Name: diagnosis, dtype: float64"
      ]
     },
     "execution_count": 9,
     "metadata": {},
     "output_type": "execute_result"
    }
   ],
   "source": [
    "corr_with_target"
   ]
  },
  {
   "cell_type": "code",
   "execution_count": 10,
   "id": "8368931c",
   "metadata": {},
   "outputs": [],
   "source": [
    "threshold = 0.25\n",
    "corr_features = corr_with_target[abs(corr_with_target) > threshold].index"
   ]
  },
  {
   "cell_type": "code",
   "execution_count": 11,
   "id": "1ba9c0f0",
   "metadata": {},
   "outputs": [
    {
     "name": "stdout",
     "output_type": "stream",
     "text": [
      "Selected Features Based on Correlation Matrix with threshold = 0.25\n",
      "\n",
      "Feature : mean_perimeter\n",
      "\n",
      "Feature : mean_radius\n",
      "\n",
      "Feature : mean_area\n",
      "\n",
      "Feature : mean_texture\n",
      "\n",
      "Feature : mean_smoothness\n",
      "\n",
      "Feature : diagnosis\n",
      "\n"
     ]
    }
   ],
   "source": [
    "print(\"Selected Features Based on Correlation Matrix with threshold = 0.25\\n\")\n",
    "for feature in corr_features:\n",
    "    print(f'Feature : {feature}\\n')"
   ]
  },
  {
   "cell_type": "code",
   "execution_count": 12,
   "id": "8c7d52c4",
   "metadata": {},
   "outputs": [],
   "source": [
    "cols = df.columns.tolist()"
   ]
  },
  {
   "cell_type": "code",
   "execution_count": 13,
   "id": "7736676f",
   "metadata": {},
   "outputs": [],
   "source": [
    "for col in cols:\n",
    "    if col not in corr_features:\n",
    "        df = df.drop(col, axis = 1)"
   ]
  },
  {
   "cell_type": "code",
   "execution_count": 14,
   "id": "b03ad370",
   "metadata": {},
   "outputs": [],
   "source": [
    "not_harm = df[df['diagnosis'] == 0]\n",
    "harm = df[df['diagnosis'] == 1]"
   ]
  },
  {
   "cell_type": "code",
   "execution_count": 15,
   "id": "3a9ff931",
   "metadata": {},
   "outputs": [
    {
     "data": {
      "image/png": "[encoded data removed]",
      "text/plain": [
       "<Figure size 1500x1000 with 6 Axes>"
      ]
     },
     "metadata": {},
     "output_type": "display_data"
    }
   ],
   "source": [
    "n = len(corr_features)\n",
    "\n",
    "cols = 3  \n",
    "rows = (n + cols - 1) // cols  \n",
    "\n",
    "fig, axs = plt.subplots(rows, cols, figsize=(15, 5 * rows), constrained_layout=True)\n",
    "axs = axs.flatten()\n",
    "\n",
    "# Plot histograms for each feature\n",
    "for i, col in enumerate(corr_features):\n",
    "    axs[i].hist(not_harm[col], bins=30, alpha=0.5, label=\"Benign\")\n",
    "    axs[i].hist(harm[col], bins=30, alpha=0.5, label=\"Malignant\")\n",
    "    axs[i].set_xlabel(col)\n",
    "    axs[i].set_ylabel('Frequency')\n",
    "    axs[i].legend()\n",
    "    axs[i].set_title(f'Distribution of {col}')\n",
    "\n",
    "# Hide unused subplots\n",
    "for j in range(len(corr_features), len(axs)):\n",
    "    fig.delaxes(axs[j])\n",
    "\n",
    "plt.show()\n"
   ]
  },
  {
   "cell_type": "code",
   "execution_count": 16,
   "id": "c88bc6bc",
   "metadata": {},
   "outputs": [],
   "source": [
    "X = df.iloc[ : , :-1]\n",
    "Y = df.iloc[ : , -1]\n",
    "X = X.values\n",
    "Y = Y.values"
   ]
  },
  {
   "cell_type": "code",
   "execution_count": 17,
   "id": "4930e860",
   "metadata": {},
   "outputs": [
    {
     "name": "stdout",
     "output_type": "stream",
     "text": [
      "(455, 5)\n",
      "(455,)\n"
     ]
    }
   ],
   "source": [
    "X_train, X_test, Y_train, Y_test = tts(X, Y, random_state = 104, test_size = 0.20, shuffle = True)\n",
    "print(X_train.shape)\n",
    "print(Y_train.shape)"
   ]
  },
  {
   "cell_type": "code",
   "execution_count": 18,
   "id": "a39f9d08",
   "metadata": {},
   "outputs": [
    {
     "data": {
      "text/plain": [
       "array([[0],\n",
       "       [0],\n",
       "       [0],\n",
       "       [1],\n",
       "       [0],\n",
       "       [1],\n",
       "       [0],\n",
       "       [1],\n",
       "       [1],\n",
       "       [0],\n",
       "       [0],\n",
       "       [1],\n",
       "       [0],\n",
       "       [0],\n",
       "       [1],\n",
       "       [1],\n",
       "       [1],\n",
       "       [1],\n",
       "       [1],\n",
       "       [1],\n",
       "       [1],\n",
       "       [0],\n",
       "       [1],\n",
       "       [1],\n",
       "       [1],\n",
       "       [0],\n",
       "       [0],\n",
       "       [0],\n",
       "       [1],\n",
       "       [1],\n",
       "       [1],\n",
       "       [0],\n",
       "       [1],\n",
       "       [0],\n",
       "       [1],\n",
       "       [1],\n",
       "       [0],\n",
       "       [1],\n",
       "       [1],\n",
       "       [1],\n",
       "       [1],\n",
       "       [1],\n",
       "       [0],\n",
       "       [0],\n",
       "       [1],\n",
       "       [1],\n",
       "       [1],\n",
       "       [1],\n",
       "       [0],\n",
       "       [0],\n",
       "       [1],\n",
       "       [0],\n",
       "       [1],\n",
       "       [0],\n",
       "       [1],\n",
       "       [0],\n",
       "       [0],\n",
       "       [1],\n",
       "       [0],\n",
       "       [1],\n",
       "       [1],\n",
       "       [1],\n",
       "       [1],\n",
       "       [0],\n",
       "       [0],\n",
       "       [1],\n",
       "       [1],\n",
       "       [1],\n",
       "       [1],\n",
       "       [0],\n",
       "       [0],\n",
       "       [1],\n",
       "       [0],\n",
       "       [0],\n",
       "       [1],\n",
       "       [1],\n",
       "       [1],\n",
       "       [1],\n",
       "       [1],\n",
       "       [1],\n",
       "       [0],\n",
       "       [1],\n",
       "       [1],\n",
       "       [1],\n",
       "       [0],\n",
       "       [0],\n",
       "       [1],\n",
       "       [1],\n",
       "       [0],\n",
       "       [0],\n",
       "       [0],\n",
       "       [0],\n",
       "       [1],\n",
       "       [0],\n",
       "       [0],\n",
       "       [1],\n",
       "       [1],\n",
       "       [1],\n",
       "       [0],\n",
       "       [1],\n",
       "       [0],\n",
       "       [1],\n",
       "       [0],\n",
       "       [0],\n",
       "       [1],\n",
       "       [1],\n",
       "       [1],\n",
       "       [1],\n",
       "       [1],\n",
       "       [0],\n",
       "       [1],\n",
       "       [1],\n",
       "       [1],\n",
       "       [1]], dtype=int64)"
      ]
     },
     "execution_count": 18,
     "metadata": {},
     "output_type": "execute_result"
    }
   ],
   "source": [
    "np.reshape(Y_train, (X_train.shape[0], 1))\n",
    "np.reshape(Y_test, (X_test.shape[0], 1))"
   ]
  },
  {
   "cell_type": "code",
   "execution_count": 19,
   "id": "919e0df2",
   "metadata": {},
   "outputs": [],
   "source": [
    "def giniIndex(y):\n",
    "    classes, counts = np.unique(y, return_counts = True)\n",
    "    gini_impurity = 1\n",
    "    for count in counts:\n",
    "        propability = count / len(y)\n",
    "        gini_impurity -= propability ** 2\n",
    "    return gini_impurity"
   ]
  },
  {
   "cell_type": "code",
   "execution_count": 20,
   "id": "81ccee41",
   "metadata": {},
   "outputs": [],
   "source": [
    "def split(X, Y, limit, feature_index):\n",
    "    left_side = X[ : , feature_index] <= limit\n",
    "    right_side = X[ : , feature_index] > limit\n",
    "    \n",
    "    return X[left_side], X[right_side], Y[left_side], Y[right_side]"
   ]
  },
  {
   "cell_type": "code",
   "execution_count": 21,
   "id": "106ef463",
   "metadata": {},
   "outputs": [],
   "source": [
    "def find_best_split(X, Y):\n",
    "    best_gini = float('inf')\n",
    "    best_split = None\n",
    "    \n",
    "    features = X.shape[1]\n",
    "    for feature in range(features):\n",
    "        limits = np.unique(X[ : , feature])\n",
    "        for limit in limits:\n",
    "            X_left, X_right, Y_left, Y_right = split(X, Y, limit, feature)\n",
    "            \n",
    "            if len(Y_left) == 0 or len(Y_right) == 0:\n",
    "                continue\n",
    "            \n",
    "            giniLeft = giniIndex(Y_left)\n",
    "            giniRight = giniIndex(Y_right)\n",
    "            \n",
    "            num = len(Y_left) * giniLeft + len(Y_right) * giniRight\n",
    "            den = len(Y_left) + len(Y_right)\n",
    "            \n",
    "            weighted_gini = num / den\n",
    "            \n",
    "            if weighted_gini < best_gini:\n",
    "                best_gini = weighted_gini\n",
    "                best_split = {\n",
    "                    'feature_index' : feature,\n",
    "                    'limit' : limit, \n",
    "                    'X_left' : X_left, \n",
    "                    'X_right' :X_right, \n",
    "                    'Y_left' : Y_left, \n",
    "                    'Y_right' : Y_right\n",
    "                } \n",
    "    return best_split"
   ]
  },
  {
   "cell_type": "code",
   "execution_count": 22,
   "id": "4799227d",
   "metadata": {},
   "outputs": [],
   "source": [
    "def build_tree(X, Y, cur_depth = 0, max_depth = None, min_splits = 2):\n",
    "    \n",
    "    n, m = X.shape\n",
    "\n",
    "    # base case\n",
    "    if cur_depth >= max_depth or len(np.unique(Y)) == 1 or n < min_splits:\n",
    "        return np.bincount(Y).argmax()\n",
    "    \n",
    "    best_split = find_best_split(X, Y)\n",
    "    if best_split is None:\n",
    "        return np.bincount(Y).argmax()\n",
    "    \n",
    "    left_subtree = build_tree(best_split['X_left'], best_split['Y_left'], cur_depth + 1, max_depth, min_splits)\n",
    "    right_subtree = build_tree(best_split['X_right'], best_split['Y_right'], cur_depth + 1, max_depth, min_splits)\n",
    "    \n",
    "    return {\n",
    "        'feature_index' : best_split['feature_index'],\n",
    "        'limit' : best_split['limit'],\n",
    "        'left' : left_subtree, \n",
    "        'right' : right_subtree\n",
    "    }"
   ]
  },
  {
   "cell_type": "code",
   "execution_count": 23,
   "id": "75a5624c",
   "metadata": {},
   "outputs": [],
   "source": [
    "def predict_sample(X, tree):\n",
    "    if isinstance(tree, dict):\n",
    "        feature_value = X[tree['feature_index']]\n",
    "        if feature_value <= tree['limit']:\n",
    "            return predict_sample(X, tree['left'])\n",
    "        else:\n",
    "            return predict_sample(X, tree['right'])\n",
    "    else:\n",
    "        # in case of leaf node just return the output\n",
    "        return tree\n",
    "    \n",
    "def predict(X, tree):\n",
    "    return [predict_sample(x, tree) for x in X]"
   ]
  },
  {
   "cell_type": "code",
   "execution_count": 24,
   "id": "0dc3c8d7",
   "metadata": {},
   "outputs": [],
   "source": [
    "tree = build_tree(X_train, Y_train, 0, max_depth = 5, min_splits = 2)\n",
    "\n",
    "Y_pred = predict(X_test, tree)"
   ]
  },
  {
   "cell_type": "code",
   "execution_count": 25,
   "id": "c75a5151",
   "metadata": {},
   "outputs": [],
   "source": [
    "accuracy = accuracy_score(Y_test, Y_pred)\n",
    "precision = precision_score(Y_test, Y_pred)\n",
    "recall = recall_score(Y_test, Y_pred)\n",
    "conf_matrix = confusion_matrix(Y_test, Y_pred)"
   ]
  },
  {
   "cell_type": "code",
   "execution_count": 26,
   "id": "717b7fbd",
   "metadata": {},
   "outputs": [
    {
     "name": "stdout",
     "output_type": "stream",
     "text": [
      "Accuracy :  0.9035\n",
      "Precision :  0.9143\n",
      "Recall :  0.9275\n",
      "Confusion Matrix :\n",
      "[[39  6]\n",
      " [ 5 64]]\n"
     ]
    }
   ],
   "source": [
    "print(f'Accuracy : {accuracy : .4f}')\n",
    "print(f'Precision : {precision : .4f}')\n",
    "print(f'Recall : {recall : .4f}')\n",
    "print(f'Confusion Matrix :\\n{conf_matrix}')"
   ]
  },
  {
   "cell_type": "code",
   "execution_count": 27,
   "id": "4eb81bcb",
   "metadata": {},
   "outputs": [
    {
     "data": {
      "image/png": "[encoded data removed]",
      "text/plain": [
       "<Figure size 640x480 with 2 Axes>"
      ]
     },
     "metadata": {},
     "output_type": "display_data"
    }
   ],
   "source": [
    "# visualise the confusion matrix\n",
    "sns.heatmap(conf_matrix, annot = True, fmt = \"d\", cmap = \"Greens\")\n",
    "plt.title('Confusion Matrix')\n",
    "plt.xlabel('Predicted')\n",
    "plt.ylabel('Actual')\n",
    "plt.show()"
   ]
  },
  {
   "cell_type": "code",
   "execution_count": 28,
   "id": "002d81d7",
   "metadata": {},
   "outputs": [
    {
     "data": {
      "image/png": "[encoded data removed]",
      "text/plain": [
       "<Figure size 400x400 with 1 Axes>"
      ]
     },
     "metadata": {},
     "output_type": "display_data"
    }
   ],
   "source": [
    "# plot roc curve\n",
    "fpr, tpr, _ = roc_curve(Y_test, Y_pred)\n",
    "roc_area = auc(fpr, tpr)\n",
    "plt.figure(figsize = (4, 4))\n",
    "plt.plot(fpr, tpr, label = f\"ROC-CURVE-AREA : {roc_area : .4f}\")\n",
    "plt.plot([0, 1], [0, 1], linestyle = '--')\n",
    "plt.title('ROC-CURVE')\n",
    "plt.xlabel('False Positive Rates')\n",
    "plt.ylabel('True Positive Rates')\n",
    "plt.legend()\n",
    "plt.show()"
   ]
  }
 ],
 "metadata": {
  "kernelspec": {
   "display_name": "Python 3",
   "language": "python",
   "name": "python3"
  },
  "language_info": {
   "codemirror_mode": {
    "name": "ipython",
    "version": 3
   },
   "file_extension": ".py",
   "mimetype": "text/x-python",
   "name": "python",
   "nbconvert_exporter": "python",
   "pygments_lexer": "ipython3",
   "version": "3.12.4"
  }
 },
 "nbformat": 4,
 "nbformat_minor": 5
}
